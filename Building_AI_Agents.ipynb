{
  "nbformat": 4,
  "nbformat_minor": 0,
  "metadata": {
    "colab": {
      "provenance": []
    },
    "kernelspec": {
      "name": "python3",
      "display_name": "Python 3"
    },
    "language_info": {
      "name": "python"
    }
  },
  "cells": [
    {
      "cell_type": "markdown",
      "source": [
        "# Loan in .ENV file to run API KEY"
      ],
      "metadata": {
        "id": "HGKXo5z8RS50"
      }
    },
    {
      "cell_type": "code",
      "source": [
        "# Install libraries pyautogen\n",
        "!pip install pyautogen"
      ],
      "metadata": {
        "id": "QDlo8QPhJ9FM",
        "colab": {
          "base_uri": "https://localhost:8080/"
        },
        "outputId": "55517ffc-ba21-4027-bead-0ef786d49a1f"
      },
      "execution_count": null,
      "outputs": [
        {
          "output_type": "stream",
          "name": "stdout",
          "text": [
            "Requirement already satisfied: pyautogen in /usr/local/lib/python3.10/dist-packages (0.6.1)\n",
            "Requirement already satisfied: asyncer>=0.0.8 in /usr/local/lib/python3.10/dist-packages (from pyautogen) (0.0.8)\n",
            "Requirement already satisfied: diskcache in /usr/local/lib/python3.10/dist-packages (from pyautogen) (5.6.3)\n",
            "Requirement already satisfied: docker in /usr/local/lib/python3.10/dist-packages (from pyautogen) (7.1.0)\n",
            "Requirement already satisfied: flaml in /usr/local/lib/python3.10/dist-packages (from pyautogen) (2.3.3)\n",
            "Requirement already satisfied: openai>=1.58 in /usr/local/lib/python3.10/dist-packages (from pyautogen) (1.59.3)\n",
            "Requirement already satisfied: packaging in /usr/local/lib/python3.10/dist-packages (from pyautogen) (24.2)\n",
            "Requirement already satisfied: pydantic!=2.6.0,<3,>=1.10 in /usr/local/lib/python3.10/dist-packages (from pyautogen) (2.10.3)\n",
            "Requirement already satisfied: python-dotenv in /usr/local/lib/python3.10/dist-packages (from pyautogen) (1.0.1)\n",
            "Requirement already satisfied: termcolor in /usr/local/lib/python3.10/dist-packages (from pyautogen) (2.5.0)\n",
            "Requirement already satisfied: tiktoken in /usr/local/lib/python3.10/dist-packages (from pyautogen) (0.8.0)\n",
            "Requirement already satisfied: websockets<15,>=14 in /usr/local/lib/python3.10/dist-packages (from pyautogen) (14.1)\n",
            "Requirement already satisfied: numpy<2.0.0,>=1.24.0 in /usr/local/lib/python3.10/dist-packages (from pyautogen) (1.26.4)\n",
            "Requirement already satisfied: anyio<5.0,>=3.4.0 in /usr/local/lib/python3.10/dist-packages (from asyncer>=0.0.8->pyautogen) (3.7.1)\n",
            "Requirement already satisfied: distro<2,>=1.7.0 in /usr/local/lib/python3.10/dist-packages (from openai>=1.58->pyautogen) (1.9.0)\n",
            "Requirement already satisfied: httpx<1,>=0.23.0 in /usr/local/lib/python3.10/dist-packages (from openai>=1.58->pyautogen) (0.28.1)\n",
            "Requirement already satisfied: jiter<1,>=0.4.0 in /usr/local/lib/python3.10/dist-packages (from openai>=1.58->pyautogen) (0.8.2)\n",
            "Requirement already satisfied: sniffio in /usr/local/lib/python3.10/dist-packages (from openai>=1.58->pyautogen) (1.3.1)\n",
            "Requirement already satisfied: tqdm>4 in /usr/local/lib/python3.10/dist-packages (from openai>=1.58->pyautogen) (4.67.1)\n",
            "Requirement already satisfied: typing-extensions<5,>=4.11 in /usr/local/lib/python3.10/dist-packages (from openai>=1.58->pyautogen) (4.12.2)\n",
            "Requirement already satisfied: annotated-types>=0.6.0 in /usr/local/lib/python3.10/dist-packages (from pydantic!=2.6.0,<3,>=1.10->pyautogen) (0.7.0)\n",
            "Requirement already satisfied: pydantic-core==2.27.1 in /usr/local/lib/python3.10/dist-packages (from pydantic!=2.6.0,<3,>=1.10->pyautogen) (2.27.1)\n",
            "Requirement already satisfied: requests>=2.26.0 in /usr/local/lib/python3.10/dist-packages (from docker->pyautogen) (2.32.3)\n",
            "Requirement already satisfied: urllib3>=1.26.0 in /usr/local/lib/python3.10/dist-packages (from docker->pyautogen) (2.2.3)\n",
            "Requirement already satisfied: regex>=2022.1.18 in /usr/local/lib/python3.10/dist-packages (from tiktoken->pyautogen) (2024.11.6)\n",
            "Requirement already satisfied: idna>=2.8 in /usr/local/lib/python3.10/dist-packages (from anyio<5.0,>=3.4.0->asyncer>=0.0.8->pyautogen) (3.10)\n",
            "Requirement already satisfied: exceptiongroup in /usr/local/lib/python3.10/dist-packages (from anyio<5.0,>=3.4.0->asyncer>=0.0.8->pyautogen) (1.2.2)\n",
            "Requirement already satisfied: certifi in /usr/local/lib/python3.10/dist-packages (from httpx<1,>=0.23.0->openai>=1.58->pyautogen) (2024.12.14)\n",
            "Requirement already satisfied: httpcore==1.* in /usr/local/lib/python3.10/dist-packages (from httpx<1,>=0.23.0->openai>=1.58->pyautogen) (1.0.7)\n",
            "Requirement already satisfied: h11<0.15,>=0.13 in /usr/local/lib/python3.10/dist-packages (from httpcore==1.*->httpx<1,>=0.23.0->openai>=1.58->pyautogen) (0.14.0)\n",
            "Requirement already satisfied: charset-normalizer<4,>=2 in /usr/local/lib/python3.10/dist-packages (from requests>=2.26.0->docker->pyautogen) (3.4.0)\n"
          ]
        }
      ]
    },
    {
      "cell_type": "code",
      "source": [
        "import os\n",
        "from autogen import ConversableAgent, AssistantAgent, UserProxyAgent\n",
        "from dotenv import load_dotenv\n",
        "\n",
        "# Load environment variables from .env file\n",
        "load_dotenv()"
      ],
      "metadata": {
        "colab": {
          "base_uri": "https://localhost:8080/"
        },
        "id": "3RIKJt95J_pn",
        "outputId": "d80eb33e-b935-4312-b3bc-c18b0467ec98"
      },
      "execution_count": null,
      "outputs": [
        {
          "output_type": "execute_result",
          "data": {
            "text/plain": [
              "True"
            ]
          },
          "metadata": {},
          "execution_count": 9
        }
      ]
    },
    {
      "cell_type": "markdown",
      "source": [
        "# Select Model\n",
        "\n",
        "Will use gpt-4o but other models can be used."
      ],
      "metadata": {
        "id": "IpphVq0JP3ji"
      }
    },
    {
      "cell_type": "code",
      "source": [
        "## Configuring the LLM\n",
        "\n",
        "llm_config = {\n",
        "\n",
        "              \"model\": \"gpt-4o\",\n",
        "              \"api_key\": os.getenv(\"OPENAI_API_KEY\")\n",
        "              }\n"
      ],
      "metadata": {
        "id": "9doyH225KLmc"
      },
      "execution_count": null,
      "outputs": []
    },
    {
      "cell_type": "code",
      "source": [
        "# Import conversable agent form autogen\n",
        "\n",
        "from autogen import ConversableAgent, UserProxyAgent\n",
        "\n",
        "## create a conversable agent\n",
        "\n",
        "agent = ConversableAgent(\n",
        "    name=\"agent\",\n",
        "    llm_config=llm_config,\n",
        "    human_input_mode =\"NEVER\"\n",
        ")"
      ],
      "metadata": {
        "id": "Yn9McukZrHhM"
      },
      "execution_count": null,
      "outputs": []
    },
    {
      "cell_type": "markdown",
      "source": [
        "# Generate a response with a question"
      ],
      "metadata": {
        "id": "pTn97vT9PDJ7"
      }
    },
    {
      "cell_type": "code",
      "source": [
        "## Generating reply from the agent\n",
        "\n",
        "reply = agent.generate_reply(\n",
        "    messages = [{\"content\": \" How to make delicious ramen?\", \"role\": \"user\"}]\n",
        "\n",
        "\n",
        ")\n",
        "\n",
        "print(reply)"
      ],
      "metadata": {
        "colab": {
          "base_uri": "https://localhost:8080/"
        },
        "id": "qI_Ky_94xkod",
        "outputId": "cceb78a4-bc35-40be-b916-1b079dd8de55"
      },
      "execution_count": null,
      "outputs": [
        {
          "output_type": "stream",
          "name": "stdout",
          "text": [
            "Making delicious ramen at home involves a few key components: the broth, noodles, toppings, and seasoning. Here’s a basic guide to help you make a flavorful bowl of ramen:\n",
            "\n",
            "### Ingredients:\n",
            "\n",
            "#### Broth:\n",
            "- **Chicken or pork bones**: For a rich stock.\n",
            "- **Aromatics**: Such as garlic, ginger, and onion.\n",
            "- **Soy sauce and/or miso paste**: For seasoning.\n",
            "- **Optional**: Dried kombu (seaweed), dried shiitake mushrooms, for extra umami.\n",
            "\n",
            "#### Noodles:\n",
            "- **Fresh or dried ramen noodles**: Find them at Asian markets or some grocery stores.\n",
            "\n",
            "#### Toppings:\n",
            "- **Soft-boiled eggs**: Marinated if possible.\n",
            "- **Chashu pork**: Braised pork belly or shoulder.\n",
            "- **Scallions**: Thinly sliced.\n",
            "- **Bamboo shoots (Menma)**: Fermented bamboo shoots.\n",
            "- **Nori**: Seaweed sheets.\n",
            "- **Bean sprouts, corn, baby bok choy**: Optional vegetables.\n",
            "\n",
            "#### Seasoning:\n",
            "- **Soy sauce or tamari**\n",
            "- **Miso paste**\n",
            "- **Salt and pepper**\n",
            "\n",
            "### Instructions:\n",
            "\n",
            "#### Broth:\n",
            "1. **Prepare the Broth**: \n",
            "   - Roast chicken or pork bones at 450°F (230°C) until browned. This helps deepen the flavor.\n",
            "   - Place bones in a large pot with water and add aromatics such as garlic, ginger, and onion. If using, add kombu and shiitake mushrooms.\n",
            "   - Bring to a boil, then reduce heat to simmer for several hours (at least 4-6 hours, or longer for a richer broth, even up to 12 hours, skimming any foam and fat from the surface).\n",
            "   \n",
            "2. **Strain and Season**:\n",
            "   - Strain the broth into a clean pot. \n",
            "   - Add soy sauce, miso paste, or a combination to taste. Adjust seasoning with salt and pepper.\n",
            "\n",
            "#### Noodles:\n",
            "1. **Cook the Noodles**:\n",
            "   - Cook noodles according to package instructions, just before serving, to ensure they are fresh and springy.\n",
            "\n",
            "#### Toppings:\n",
            "1. **Soft-Boiled Egg**:\n",
            "   - Boil eggs for about 6-7 minutes, then transfer to ice water. Peel and marinate in soy sauce or mirin for extra flavor.\n",
            "2. **Chashu Pork**:\n",
            "   - Sear the pork belly, then braise it with soy sauce, sugar, sake, and ginger until tender. Slice thinly.\n",
            "\n",
            "#### Assembly:\n",
            "1. **Assemble the Bowl**:\n",
            "   - Divide the cooked noodles among serving bowls.\n",
            "   - Pour hot broth over the noodles.\n",
            "   - Arrange your toppings on top, such as sliced chashu, soft-boiled egg halves, scallions, bamboo shoots, and a piece of nori.\n",
            "   - Add additional seasonings like sesame oil, chili oil, or vinegar if desired.\n",
            "\n",
            "### Tips:\n",
            "- **Customization**: Feel free to customize your toppings and broth to suit your taste. Ramen is very versatile.\n",
            "- **Shortcut**: If short on time, you can use pre-made ramen broth or bouillon for a quicker version.\n",
            "- **Experiment and Adjust**: Use different proteins, vary vegetable toppings, or try adding spicy elements for heat.\n",
            "\n",
            "Enjoy your homemade ramen with your choice of flavors and toppings!\n"
          ]
        }
      ]
    },
    {
      "cell_type": "markdown",
      "source": [
        "# Generate another respomse"
      ],
      "metadata": {
        "id": "c-BvtLB7POV9"
      }
    },
    {
      "cell_type": "code",
      "source": [
        "reply = agent.generate_reply(\n",
        "    messages = [{\"content\": \"How to set up a AI agent strategy for customer service?\", \"role\": \"user\"}]\n",
        "\n",
        "\n",
        ")\n",
        "\n",
        "print(reply)"
      ],
      "metadata": {
        "id": "uX_KNaLAyqt_",
        "colab": {
          "base_uri": "https://localhost:8080/"
        },
        "outputId": "84a662a0-8c0b-4153-a657-bddaf7b2da40"
      },
      "execution_count": null,
      "outputs": [
        {
          "output_type": "stream",
          "name": "stdout",
          "text": [
            "Setting up an AI agent strategy for customer service involves a series of key steps that ensure both the technology and processes are aligned with your business goals and customer needs. Here’s a comprehensive guide to help you develop this strategy:\n",
            "\n",
            "1. **Define Objectives:**\n",
            "   - Determine what you aim to achieve with the AI agent. Objectives could include reducing response times, increasing customer satisfaction, handling repetitive inquiries, or freeing up human agents for more complex tasks.\n",
            "\n",
            "2. **Understand Customer Needs:**\n",
            "   - Analyze customer interactions to identify common issues and questions. Use surveys, feedback, and past interactions to understand customer pain points and expectations.\n",
            "\n",
            "3. **Choose the Right AI Technology:**\n",
            "   - Select an AI solution that suits your needs. Consider chatbots, voice assistants, or more complex AI systems with machine learning capabilities. Evaluate features like natural language processing, integration capabilities, and scalability.\n",
            "\n",
            "4. **Integration with Existing Systems:**\n",
            "   - Ensure the AI agent can seamlessly integrate with your current CRM, helpdesk, and other customer service tools. This helps in maintaining a consistent flow of information and reduces silos.\n",
            "\n",
            "5. **Data Collection and Management:**\n",
            "   - Establish robust data management processes. Ensure the AI has access to relevant customer data and knowledge bases to provide accurate and valuable responses. Maintain data privacy and compliance with regulations like GDPR.\n",
            "\n",
            "6. **Design for User Experience:**\n",
            "   - Create a conversational flow that’s intuitive and user-friendly. Design the AI to understand different input variations and languages, and ensure it can escalate to a human agent when needed.\n",
            "\n",
            "7. **Training and Tuning:**\n",
            "   - Train the AI using historical customer data to improve its response accuracy. Use machine learning to enable the system to learn from interactions and improve over time.\n",
            "\n",
            "8. **Monitoring and Analytics:**\n",
            "   - Continuously monitor the AI’s performance using analytics tools. Track metrics such as response time, resolution rate, user satisfaction, and conversation abandonment. Use these insights to refine the AI’s functionality.\n",
            "\n",
            "9. **Feedback Loops:**\n",
            "   - Allow customers to provide feedback after interactions. Use this feedback to understand areas for improvement and to make iterative adjustments to the AI’s systems and processes.\n",
            "\n",
            "10. **Human-AI Collaboration:**\n",
            "    - Define clear guidelines for when the AI should escalate issues to human agents. Train human agents to effectively work alongside AI, maximizing its potential and handling complex queries when necessary.\n",
            "\n",
            "11. **Pilot and Iterate:**\n",
            "    - Start with a pilot program for limited interactions or specific use-cases. Gather data and feedback to iterate and enhance the AI’s capabilities before a full-scale rollout.\n",
            "\n",
            "12. **Security and Compliance:**\n",
            "    - Implement robust security measures to protect customer data. Ensure compliance with industry regulations and standards to maintain trust and avoid legal issues.\n",
            "\n",
            "13. **Continuous Improvement:**\n",
            "    - Keep the AI up-to-date with new information, technologies, and changing customer expectations. Regular updates and training will enhance its capabilities and usefulness over time.\n",
            "\n",
            "By following these steps, you can create a customer service AI that improves efficiency, enhances customer satisfaction, and supports your business goals effectively.\n"
          ]
        }
      ]
    },
    {
      "cell_type": "markdown",
      "source": [
        "# Multi Agent Conversation\n",
        "\n",
        "Create a conversation between a student and a tutor agent."
      ],
      "metadata": {
        "id": "SnGOjVKdQDCU"
      }
    },
    {
      "cell_type": "code",
      "source": [
        "# Create student agent\n",
        "\n",
        "student = ConversableAgent(\n",
        "    \"student\",\n",
        "    system_message=\"You are a high school student struggling with algerbra. You need help understanding quadratic equations.\",\n",
        "    llm_config=llm_config,  # Pass llm_config directly\n",
        "    human_input_mode=\"NEVER\"\n",
        ")"
      ],
      "metadata": {
        "id": "A7zEgYQtPnQc"
      },
      "execution_count": null,
      "outputs": []
    },
    {
      "cell_type": "code",
      "source": [
        "# Create tutor agent\n",
        "\n",
        "tutor = ConversableAgent(\n",
        "    \"tutor\",\n",
        "    system_message= \"You are a patient and kind math tutor. Your goal is to help students understand algebra concepts, particularly quadratic equations.\",\n",
        "    llm_config=llm_config,  # Pass llm_config directly\n",
        "    human_input_mode=\"NEVER\"\n",
        ")"
      ],
      "metadata": {
        "id": "1HHU2EKIReLU"
      },
      "execution_count": null,
      "outputs": []
    },
    {
      "cell_type": "markdown",
      "source": [
        "# Initiate the conversation between the two agents"
      ],
      "metadata": {
        "id": "a1BrVZ50SosA"
      }
    },
    {
      "cell_type": "code",
      "source": [
        "# start a learning session\n",
        "result = student.initiate_chat(\n",
        "    recipient=tutor,\n",
        "    message=\"I am struggling with quadratic equations. Can you help me understand them better?\",\n",
        "    max_turns = 2\n",
        ")"
      ],
      "metadata": {
        "colab": {
          "base_uri": "https://localhost:8080/"
        },
        "id": "3KToRop1Shq2",
        "outputId": "e2420373-3ca1-4427-a6f1-2e08974a43a8"
      },
      "execution_count": null,
      "outputs": [
        {
          "output_type": "stream",
          "name": "stdout",
          "text": [
            "student (to tutor):\n",
            "\n",
            "I am struggling with quadratic equations. Can you help me understand them better?\n",
            "\n",
            "--------------------------------------------------------------------------------\n",
            "tutor (to student):\n",
            "\n",
            "Of course! I'd be happy to help you with quadratic equations. Let's start with the basics.\n",
            "\n",
            "A quadratic equation is an equation of the form:\n",
            "\n",
            "\\[ ax^2 + bx + c = 0 \\]\n",
            "\n",
            "Here, \\(a\\), \\(b\\), and \\(c\\) are constants, with \\(a\\) not equal to zero (otherwise, it would not be quadratic). The equation involves a term with \\(x^2\\), making it a second-degree polynomial.\n",
            "\n",
            "Would you like to go through how to solve a quadratic equation, or is there any specific aspect you're struggling with that you'd like me to explain?\n",
            "\n",
            "--------------------------------------------------------------------------------\n",
            "student (to tutor):\n",
            "\n",
            "Yes, I would like to know how to solve a quadratic equation.\n",
            "\n",
            "--------------------------------------------------------------------------------\n",
            "tutor (to student):\n",
            "\n",
            "Great! There are several methods to solve a quadratic equation, and I’ll introduce you to a few of the most common ones: factoring, using the quadratic formula, and completing the square. Let's start with the factoring method.\n",
            "\n",
            "### Factoring\n",
            "\n",
            "This method works well when the quadratic equation can be factored into simpler binomials. Let's look at an example:\n",
            "\n",
            "Suppose you have the equation:\n",
            "\n",
            "\\[ x^2 - 5x + 6 = 0 \\]\n",
            "\n",
            "1. **Look for two numbers that multiply to the constant term \\(c\\) (which is 6 in this case) and add to the linear coefficient \\(b\\) (which is -5 here).**\n",
            "\n",
            "   These numbers would be -2 and -3 because \\(-2 \\times -3 = 6\\) and \\(-2 + (-3) = -5\\).\n",
            "\n",
            "2. **Write the quadratic as a product of two binomials:**\n",
            "\n",
            "   \\[ (x - 2)(x - 3) = 0 \\]\n",
            "\n",
            "3. **Use the Zero Product Property:** \n",
            "\n",
            "   If \\(a \\times b = 0\\), then either \\(a = 0\\) or \\(b = 0\\). So, set each binomial to zero:\n",
            "\n",
            "   \\[ x - 2 = 0 \\quad \\text{or} \\quad x - 3 = 0 \\]\n",
            "\n",
            "4. **Solve for \\(x\\):**\n",
            "\n",
            "   \\[ x = 2 \\quad \\text{or} \\quad x = 3 \\]\n",
            "\n",
            "So, the solutions to the equation \\(x^2 - 5x + 6 = 0\\) are \\(x = 2\\) and \\(x = 3\\).\n",
            "\n",
            "Would you like to practice this method, or shall I explain another method like using the quadratic formula?\n",
            "\n",
            "--------------------------------------------------------------------------------\n"
          ]
        }
      ]
    },
    {
      "cell_type": "markdown",
      "source": [
        "# Print Results\n",
        "\n",
        "- Print the chat history\n",
        "- Print the cost of each call\n",
        "- print the summary"
      ],
      "metadata": {
        "id": "VeXyFEoeT-Zm"
      }
    },
    {
      "cell_type": "code",
      "source": [
        "import pprint\n",
        "pprint.pprint(result.chat_history)"
      ],
      "metadata": {
        "colab": {
          "base_uri": "https://localhost:8080/"
        },
        "id": "jK4UhDrtTKdc",
        "outputId": "bf9c3775-310d-4944-8651-f0da272aa2a7"
      },
      "execution_count": null,
      "outputs": [
        {
          "output_type": "stream",
          "name": "stdout",
          "text": [
            "[{'content': 'I am struggling with quadratic equations. Can you help me '\n",
            "             'understand them better?',\n",
            "  'name': 'student',\n",
            "  'role': 'assistant'},\n",
            " {'content': \"Of course! I'd be happy to help you with quadratic equations. \"\n",
            "             \"Let's start with the basics.\\n\"\n",
            "             '\\n'\n",
            "             'A quadratic equation is an equation of the form:\\n'\n",
            "             '\\n'\n",
            "             '\\\\[ ax^2 + bx + c = 0 \\\\]\\n'\n",
            "             '\\n'\n",
            "             'Here, \\\\(a\\\\), \\\\(b\\\\), and \\\\(c\\\\) are constants, with \\\\(a\\\\) '\n",
            "             'not equal to zero (otherwise, it would not be quadratic). The '\n",
            "             'equation involves a term with \\\\(x^2\\\\), making it a '\n",
            "             'second-degree polynomial.\\n'\n",
            "             '\\n'\n",
            "             'Would you like to go through how to solve a quadratic equation, '\n",
            "             \"or is there any specific aspect you're struggling with that \"\n",
            "             \"you'd like me to explain?\",\n",
            "  'name': 'tutor',\n",
            "  'role': 'user'},\n",
            " {'content': 'Yes, I would like to know how to solve a quadratic equation.',\n",
            "  'name': 'student',\n",
            "  'role': 'assistant'},\n",
            " {'content': 'Great! There are several methods to solve a quadratic equation, '\n",
            "             'and I’ll introduce you to a few of the most common ones: '\n",
            "             'factoring, using the quadratic formula, and completing the '\n",
            "             \"square. Let's start with the factoring method.\\n\"\n",
            "             '\\n'\n",
            "             '### Factoring\\n'\n",
            "             '\\n'\n",
            "             'This method works well when the quadratic equation can be '\n",
            "             \"factored into simpler binomials. Let's look at an example:\\n\"\n",
            "             '\\n'\n",
            "             'Suppose you have the equation:\\n'\n",
            "             '\\n'\n",
            "             '\\\\[ x^2 - 5x + 6 = 0 \\\\]\\n'\n",
            "             '\\n'\n",
            "             '1. **Look for two numbers that multiply to the constant term '\n",
            "             '\\\\(c\\\\) (which is 6 in this case) and add to the linear '\n",
            "             'coefficient \\\\(b\\\\) (which is -5 here).**\\n'\n",
            "             '\\n'\n",
            "             '   These numbers would be -2 and -3 because \\\\(-2 \\\\times -3 = '\n",
            "             '6\\\\) and \\\\(-2 + (-3) = -5\\\\).\\n'\n",
            "             '\\n'\n",
            "             '2. **Write the quadratic as a product of two binomials:**\\n'\n",
            "             '\\n'\n",
            "             '   \\\\[ (x - 2)(x - 3) = 0 \\\\]\\n'\n",
            "             '\\n'\n",
            "             '3. **Use the Zero Product Property:** \\n'\n",
            "             '\\n'\n",
            "             '   If \\\\(a \\\\times b = 0\\\\), then either \\\\(a = 0\\\\) or \\\\(b = '\n",
            "             '0\\\\). So, set each binomial to zero:\\n'\n",
            "             '\\n'\n",
            "             '   \\\\[ x - 2 = 0 \\\\quad \\\\text{or} \\\\quad x - 3 = 0 \\\\]\\n'\n",
            "             '\\n'\n",
            "             '4. **Solve for \\\\(x\\\\):**\\n'\n",
            "             '\\n'\n",
            "             '   \\\\[ x = 2 \\\\quad \\\\text{or} \\\\quad x = 3 \\\\]\\n'\n",
            "             '\\n'\n",
            "             'So, the solutions to the equation \\\\(x^2 - 5x + 6 = 0\\\\) are '\n",
            "             '\\\\(x = 2\\\\) and \\\\(x = 3\\\\).\\n'\n",
            "             '\\n'\n",
            "             'Would you like to practice this method, or shall I explain '\n",
            "             'another method like using the quadratic formula?',\n",
            "  'name': 'tutor',\n",
            "  'role': 'user'}]\n"
          ]
        }
      ]
    },
    {
      "cell_type": "code",
      "source": [
        "pprint.pprint(result.cost)"
      ],
      "metadata": {
        "colab": {
          "base_uri": "https://localhost:8080/"
        },
        "id": "QGehSnaNUFn0",
        "outputId": "0536e946-939f-4d1f-91e7-4216eef54897"
      },
      "execution_count": null,
      "outputs": [
        {
          "output_type": "stream",
          "name": "stdout",
          "text": [
            "{'usage_excluding_cached_inference': {'gpt-4o-2024-08-06': {'completion_tokens': 521,\n",
            "                                                            'cost': 0.0062925,\n",
            "                                                            'prompt_tokens': 433,\n",
            "                                                            'total_tokens': 954},\n",
            "                                      'total_cost': 0.0062925},\n",
            " 'usage_including_cached_inference': {'gpt-4o-2024-08-06': {'completion_tokens': 521,\n",
            "                                                            'cost': 0.0062925,\n",
            "                                                            'prompt_tokens': 433,\n",
            "                                                            'total_tokens': 954},\n",
            "                                      'total_cost': 0.0062925}}\n"
          ]
        }
      ]
    },
    {
      "cell_type": "code",
      "source": [
        "pprint.pprint(result.summary)"
      ],
      "metadata": {
        "colab": {
          "base_uri": "https://localhost:8080/"
        },
        "id": "u28QALgaULKT",
        "outputId": "8f5ecc11-8cd4-4ca9-dfc0-45a605d5c74e"
      },
      "execution_count": null,
      "outputs": [
        {
          "output_type": "stream",
          "name": "stdout",
          "text": [
            "('Great! There are several methods to solve a quadratic equation, and I’ll '\n",
            " 'introduce you to a few of the most common ones: factoring, using the '\n",
            " \"quadratic formula, and completing the square. Let's start with the factoring \"\n",
            " 'method.\\n'\n",
            " '\\n'\n",
            " '### Factoring\\n'\n",
            " '\\n'\n",
            " 'This method works well when the quadratic equation can be factored into '\n",
            " \"simpler binomials. Let's look at an example:\\n\"\n",
            " '\\n'\n",
            " 'Suppose you have the equation:\\n'\n",
            " '\\n'\n",
            " '\\\\[ x^2 - 5x + 6 = 0 \\\\]\\n'\n",
            " '\\n'\n",
            " '1. **Look for two numbers that multiply to the constant term \\\\(c\\\\) (which '\n",
            " 'is 6 in this case) and add to the linear coefficient \\\\(b\\\\) (which is -5 '\n",
            " 'here).**\\n'\n",
            " '\\n'\n",
            " '   These numbers would be -2 and -3 because \\\\(-2 \\\\times -3 = 6\\\\) and '\n",
            " '\\\\(-2 + (-3) = -5\\\\).\\n'\n",
            " '\\n'\n",
            " '2. **Write the quadratic as a product of two binomials:**\\n'\n",
            " '\\n'\n",
            " '   \\\\[ (x - 2)(x - 3) = 0 \\\\]\\n'\n",
            " '\\n'\n",
            " '3. **Use the Zero Product Property:** \\n'\n",
            " '\\n'\n",
            " '   If \\\\(a \\\\times b = 0\\\\), then either \\\\(a = 0\\\\) or \\\\(b = 0\\\\). So, set '\n",
            " 'each binomial to zero:\\n'\n",
            " '\\n'\n",
            " '   \\\\[ x - 2 = 0 \\\\quad \\\\text{or} \\\\quad x - 3 = 0 \\\\]\\n'\n",
            " '\\n'\n",
            " '4. **Solve for \\\\(x\\\\):**\\n'\n",
            " '\\n'\n",
            " '   \\\\[ x = 2 \\\\quad \\\\text{or} \\\\quad x = 3 \\\\]\\n'\n",
            " '\\n'\n",
            " 'So, the solutions to the equation \\\\(x^2 - 5x + 6 = 0\\\\) are \\\\(x = 2\\\\) and '\n",
            " '\\\\(x = 3\\\\).\\n'\n",
            " '\\n'\n",
            " 'Would you like to practice this method, or shall I explain another method '\n",
            " 'like using the quadratic formula?')\n"
          ]
        }
      ]
    },
    {
      "cell_type": "markdown",
      "source": [
        "# Termination condition - Ending the conversation"
      ],
      "metadata": {
        "id": "6ZgsM43QUzAx"
      }
    },
    {
      "cell_type": "code",
      "source": [
        "student = ConversableAgent(\n",
        "    \"student\",\n",
        "    system_message=\"You are a high school student struggling with algerbra. You need help understanding quadratic equations.\",\n",
        "    llm_config=llm_config,  # Pass llm_config directly\n",
        "    human_input_mode=\"NEVER\",\n",
        "    is_termination_msg=lambda msg: \"exit\" in msg [\"content\"],\n",
        ")\n",
        "\n",
        "tutor = ConversableAgent(\n",
        "    \"tutor\",\n",
        "    system_message= \"You are a patient and kind math tutor. Your goal is to help students understand algebra concepts, particularly quadratic equations.\",\n",
        "    llm_config=llm_config,  # Pass llm_config directly\n",
        "    human_input_mode=\"NEVER\"\n",
        ")"
      ],
      "metadata": {
        "id": "EFJ8wfTNUOaV"
      },
      "execution_count": null,
      "outputs": []
    },
    {
      "cell_type": "markdown",
      "source": [
        "# Use the word \"exit\" in the message"
      ],
      "metadata": {
        "id": "ziqMIZDjWkLP"
      }
    },
    {
      "cell_type": "code",
      "source": [
        "# Pass the word \"exit\" in the message to trigger conversation to end\n",
        "result = student.initiate_chat(\n",
        "    tutor,\n",
        "    message = \"I am struggling with quadratic equations. Can you help me understand them better and then say exit\",\n",
        "    max_turns = 4\n",
        ")"
      ],
      "metadata": {
        "colab": {
          "base_uri": "https://localhost:8080/"
        },
        "id": "sNMrxw8fV8N-",
        "outputId": "328e8556-d095-4d0b-80b3-9c630aedb295"
      },
      "execution_count": null,
      "outputs": [
        {
          "output_type": "stream",
          "name": "stdout",
          "text": [
            "student (to tutor):\n",
            "\n",
            "I am struggling with quadratic equations. Can you help me understand them better and then say exit\n",
            "\n",
            "--------------------------------------------------------------------------------\n",
            "tutor (to student):\n",
            "\n",
            "Absolutely, I’d be happy to help you understand quadratic equations!\n",
            "\n",
            "**What is a quadratic equation?**\n",
            "\n",
            "A quadratic equation is any equation that can be written in the form \\( ax^2 + bx + c = 0 \\), where:\n",
            "- \\( x \\) represents an unknown variable,\n",
            "- \\( a \\), \\( b \\), and \\( c \\) are coefficients with \\( a \\neq 0 \\) (because if \\( a = 0 \\), it would not be a quadratic equation).\n",
            "\n",
            "**Why is it called \"quadratic\"?**\n",
            "\n",
            "The term \"quadratic\" comes from \"quadratus,\" which is the Latin word for \"square.\" The equation involves a squared variable (\\( x^2 \\)).\n",
            "\n",
            "**Ways to solve quadratic equations:**\n",
            "\n",
            "1. **Factoring:**\n",
            "   If the quadratic equation can be factored, it can be expressed as \\( (px + q)(rx + s) = 0 \\). Set each factor equal to zero to solve for \\( x \\):\n",
            "   \\[\n",
            "   px + q = 0 \\quad \\text{and} \\quad rx + s = 0\n",
            "   \\]\n",
            "\n",
            "2. **Using the Quadratic Formula:**\n",
            "   The quadratic formula gives the solution(s) to any quadratic equation:\n",
            "   \\[\n",
            "   x = \\frac{{-b \\pm \\sqrt{{b^2 - 4ac}}}}{{2a}}\n",
            "   \\]\n",
            "   Here:\n",
            "   - \\( \\pm \\) indicates there are usually two solutions,\n",
            "   - The discriminant (\\( b^2 - 4ac \\)) tells us about the nature of the roots:\n",
            "     - If positive, there are two real and distinct solutions.\n",
            "     - If zero, there is exactly one real solution.\n",
            "     - If negative, there are two complex solutions.\n",
            "\n",
            "3. **Completing the Square:**\n",
            "   This method involves rewriting the equation so that one side is a perfect square trinomial. It’s especially useful for deriving the quadratic formula or solving equations that are not easily factorable.\n",
            "\n",
            "4. **Graphical Method:**\n",
            "   You can graph the function \\( y = ax^2 + bx + c \\) and find the \\( x \\)-intercepts (if they exist). These intercepts are the solutions to the quadratic equation.\n",
            "\n",
            "**Graphical Representation:**\n",
            "- The graph of a quadratic equation is a parabola.\n",
            "- If \\( a > 0 \\), the parabola opens upwards.\n",
            "- If \\( a < 0 \\), it opens downwards.\n",
            "- The vertex is the highest or lowest point on the graph, depending on the direction the parabola opens.\n",
            "\n",
            "Let me know if there are any specific parts you'd like to go over in more detail or if you have any questions!\n",
            "\n",
            "--------------------------------------------------------------------------------\n",
            "student (to tutor):\n",
            "\n",
            "exit\n",
            "\n",
            "--------------------------------------------------------------------------------\n",
            "tutor (to student):\n",
            "\n",
            "If you need any more help in the future with quadratic equations or any other topics, feel free to reach out. Have a great day and happy studying!\n",
            "\n",
            "--------------------------------------------------------------------------------\n",
            "student (to tutor):\n",
            "\n",
            "Let me know if you have more questions in the future. Take care!\n",
            "\n",
            "--------------------------------------------------------------------------------\n",
            "tutor (to student):\n",
            "\n",
            "Thank you! Take care as well, and feel free to reach out whenever you need assistance. Have a wonderful day!\n",
            "\n",
            "--------------------------------------------------------------------------------\n",
            "student (to tutor):\n",
            "\n",
            "You're welcome! Take care, and don't hesitate to reach out if you have more questions in the future. Have a great day!\n",
            "\n",
            "--------------------------------------------------------------------------------\n",
            "tutor (to student):\n",
            "\n",
            "Thank you! Wishing you a great day, too, and I'm here whenever you need help with math concepts. Take care!\n",
            "\n",
            "--------------------------------------------------------------------------------\n"
          ]
        }
      ]
    },
    {
      "cell_type": "markdown",
      "source": [
        "# Research Assistant - Marketing Tasks\n",
        "\n",
        "- Set up 4 distinct agents\n",
        "\n",
        "1) Manager proxy agent - Act as the interface to represent human interests.\n",
        "\n",
        "2) Idea Generator Agent - Brainstorm ideas on the given topic.  \n",
        "\n",
        "3) Script Writer Agent - Develop full script,scenes and camera directions based on campaign ideas.\n",
        "\n",
        "4) Script Reviewer Agent - Analyze scripts, give feedback and suggest improvements."
      ],
      "metadata": {
        "id": "TEWktETukqTM"
      }
    },
    {
      "cell_type": "markdown",
      "source": [
        "\n",
        "\n",
        "---\n",
        "\n"
      ],
      "metadata": {
        "id": "HRP1o7CBqh5j"
      }
    },
    {
      "cell_type": "markdown",
      "source": [
        "## Manager Proxy Agents"
      ],
      "metadata": {
        "id": "6h_qO1SXqhzA"
      }
    },
    {
      "cell_type": "code",
      "source": [
        "# Manager Proxy Agent\n",
        "manager_proxy_agent = UserProxyAgent(\n",
        "    name=\"Manager\",\n",
        "    system_message=\"You are a marketing campaign manager. Your role is to provide campaign topics and evaluate the ideas and scripts generated by the creative team.\",\n",
        "    human_input_mode=\"TERMINATE\",\n",
        "    llm_config=llm_config,\n",
        ")"
      ],
      "metadata": {
        "id": "0LLbBH7pkqEm"
      },
      "execution_count": null,
      "outputs": []
    },
    {
      "cell_type": "markdown",
      "source": [
        "##  Idea Generator Agent"
      ],
      "metadata": {
        "id": "g8DIyoQCt4AS"
      }
    },
    {
      "cell_type": "code",
      "source": [
        "idea_generator = ConversableAgent(\n",
        "    name=\"IdeaGenerator\",  # Changed from \"Idea Generator\"\n",
        "    system_message='''You are a creative marketing expert. Your role is to:\n",
        "    1. Generate innovative campaign ideas based on the given topic\n",
        "    2. Suggest potential storylines and characters for video content\n",
        "    3. Provide a brief outline for each idea\n",
        "    Present 3-5 unique ideas for each request.''',\n",
        "    llm_config=llm_config,\n",
        "    human_input_mode=\"NEVER\"\n",
        ")"
      ],
      "metadata": {
        "id": "Cx8mxF6Mkp_h"
      },
      "execution_count": null,
      "outputs": []
    },
    {
      "cell_type": "markdown",
      "source": [
        "## Script Writer Agent"
      ],
      "metadata": {
        "id": "w1O2z2cdt3Du"
      }
    },
    {
      "cell_type": "code",
      "source": [
        "script_writer = ConversableAgent(\n",
        "    name=\"ScriptWriter\",  # Changed from \"Script Writer\"\n",
        "    system_message='''You are an expert script writer for marketing videos. Your role is to:\n",
        "    1. Develop full scripts based on the provided campaign ideas\n",
        "    2. Include dialogue, scene descriptions, and camera directions\n",
        "    3. Ensure the script aligns with the campaign objectives and target audience\n",
        "    Aim for scripts of 2-3 minutes in length.''',\n",
        "    llm_config=llm_config,\n",
        "    human_input_mode=\"NEVER\"\n",
        ")"
      ],
      "metadata": {
        "id": "INkZZwn_kp6c"
      },
      "execution_count": null,
      "outputs": []
    },
    {
      "cell_type": "markdown",
      "source": [
        "## Script Reviewer Agent"
      ],
      "metadata": {
        "id": "Y4AaAuiPt1vx"
      }
    },
    {
      "cell_type": "code",
      "source": [
        "script_reviewer = ConversableAgent(\n",
        "    name=\"ScriptReviewer\",  # Changed from \"Script Reviewer\"\n",
        "    system_message='''You are a critical script reviewer. Your role is to:\n",
        "    1. Analyze scripts for effectiveness, engagement, and alignment with campaign goals\n",
        "    2. Provide constructive feedback on dialogue, pacing, and overall structure\n",
        "    3. Suggest improvements or alternatives where necessary\n",
        "    4. Ensure the script adheres to brand guidelines and target audience preferences\n",
        "    Be thorough and specific in your feedback.''',\n",
        "    llm_config=llm_config,\n",
        "    human_input_mode=\"NEVER\"\n",
        ")"
      ],
      "metadata": {
        "id": "vIRdc_Yhkp3z"
      },
      "execution_count": null,
      "outputs": []
    },
    {
      "cell_type": "markdown",
      "source": [
        "# Add tasks for agents"
      ],
      "metadata": {
        "id": "nbo-ial4stOA"
      }
    },
    {
      "cell_type": "code",
      "source": [
        "chats = [\n",
        "    {\n",
        "        \"sender\": manager_proxy_agent,\n",
        "        \"recipient\": idea_generator,\n",
        "        \"message\":\n",
        "            \"Hello, I need creative ideas for our new marketing campaign. \"\n",
        "            \"Our product is eco-friendly home cleaning products. \"\n",
        "            \"Could you generate 3-5 innovative campaign ideas, including potential \"\n",
        "            \"storylines and characters for video content?\",\n",
        "        \"summary_method\": \"reflection_with_llm\",\n",
        "        \"summary_args\": {\n",
        "            \"summary_prompt\" : \"Summarize the generated ideas \"\n",
        "                             \"into a JSON object: \"\n",
        "                             \"{'idea1': {'concept': '', 'storyline': '', 'characters': ''}, \"\n",
        "                             \"'idea2': {...}, 'idea3': {...}}\",\n",
        "        },\n",
        "        \"max_turns\": 2,\n",
        "        \"clear_history\" : True\n",
        "    },\n",
        "    {\n",
        "        \"sender\": manager_proxy_agent,\n",
        "        \"recipient\": script_writer,\n",
        "        \"message\":\n",
        "            \"Great ideas! Let's develop a script for the following concept: \"\n",
        "            \"[INSERT SELECTED IDEA HERE]. \"\n",
        "            \"Please write a full script including dialogue, scene descriptions, \"\n",
        "            \"and camera directions. Aim for a 2-3 minute video.\",\n",
        "        \"summary_method\": \"reflection_with_llm\",\n",
        "        \"summary_args\": {\n",
        "            \"summary_prompt\" : \"Provide a brief summary of the script \"\n",
        "                             \"as a JSON object: \"\n",
        "                             \"{'title': '', 'main_characters': [], 'key_scenes': [], \"\n",
        "                             \"'estimated_duration': ''}\",\n",
        "        },\n",
        "        \"max_turns\": 1,\n",
        "        \"clear_history\" : False\n",
        "    },\n",
        "    {\n",
        "        \"sender\": manager_proxy_agent,\n",
        "        \"recipient\": script_reviewer,\n",
        "        \"message\": \"Please review the following script: [INSERT SCRIPT HERE]. \"\n",
        "                   \"Analyze it for effectiveness, engagement, and alignment with \"\n",
        "                   \"our eco-friendly cleaning products campaign. Provide constructive \"\n",
        "                   \"feedback and suggest improvements.\",\n",
        "        \"max_turns\": 1,\n",
        "        \"summary_method\": \"reflection_with_llm\",\n",
        "        \"summary_args\": {\n",
        "            \"summary_prompt\" : \"Summarize the review points \"\n",
        "                             \"as a JSON object: \"\n",
        "                             \"{'strengths': [], 'weaknesses': [], 'suggestions': []}\",\n",
        "        },\n",
        "        # Remove or modify the 'name' field if it exists\n",
        "        # \"name\": \"Script Reviewer\"  # This might be causing the issue\n",
        "    },\n",
        "    {\n",
        "        \"sender\": manager_proxy_agent,\n",
        "        \"recipient\": manager_proxy_agent,\n",
        "        \"message\": \"Based on the script and review, decide if the script is ready \"\n",
        "                   \"for production or needs revisions. If revisions are needed, \"\n",
        "                   \"specify the key areas to address.\",\n",
        "        \"max_turns\": 1,\n",
        "        \"summary_method\": \"reflection_with_llm\",\n",
        "        \"summary_args\": {\n",
        "            \"summary_prompt\" : \"Summarize the decision \"\n",
        "                             \"as a JSON object: \"\n",
        "                             \"{'decision': 'ready'/'needs_revision', \"\n",
        "                             \"'key_revision_areas': []}\",\n",
        "        },\n",
        "        # Remove or modify the 'name' field if it exists\n",
        "        # \"name\": \"Manager\"  # This might be causing the issue\n",
        "    },\n",
        "]"
      ],
      "metadata": {
        "id": "IJRysDTYkp1c"
      },
      "execution_count": null,
      "outputs": []
    },
    {
      "cell_type": "markdown",
      "source": [
        "# Start Researching"
      ],
      "metadata": {
        "id": "Ck7umeQAuAcm"
      }
    },
    {
      "cell_type": "code",
      "source": [
        "from autogen import initiate_chats\n",
        "\n",
        "chat_results = initiate_chats(chats)"
      ],
      "metadata": {
        "id": "qOHqlOp_kpy6",
        "colab": {
          "base_uri": "https://localhost:8080/"
        },
        "outputId": "9b53326d-4d7a-466a-fb63-d866bef3c679"
      },
      "execution_count": null,
      "outputs": [
        {
          "output_type": "stream",
          "name": "stdout",
          "text": [
            "\n",
            "********************************************************************************\n",
            "Starting a new chat....\n",
            "\n",
            "********************************************************************************\n",
            "Manager (to IdeaGenerator):\n",
            "\n",
            "Hello, I need creative ideas for our new marketing campaign. Our product is eco-friendly home cleaning products. Could you generate 3-5 innovative campaign ideas, including potential storylines and characters for video content?\n",
            "\n",
            "--------------------------------------------------------------------------------\n",
            "IdeaGenerator (to Manager):\n",
            "\n",
            "Absolutely, here are some creative campaign ideas for your eco-friendly home cleaning products:\n",
            "\n",
            "### 1. **\"Clean and Green Chronicles\"**\n",
            "\n",
            "#### Campaign Idea:\n",
            "Launch a series of short, engaging video episodes showcasing different households transitioning to eco-friendly cleaning solutions.\n",
            "\n",
            "#### Storylines and Characters:\n",
            "- **Emily the Eco-Advocate**: A passionate young woman who believes in sustainable living. She visits various families, educating them on the benefits of using eco-friendly products.\n",
            "- **The Clueless Family**: A humorous family stuck in their old, chemical-laden cleaning habits. They undergo a fun and eye-opening transformation with Emily’s help.\n",
            "- **Rival Cleaner Battle**: A quirky and comic duel between the aggressively marketing \"Chemical King\" brand and Emily’s gentle, nature-based products.\n",
            "\n",
            "#### Brief Outline:\n",
            "The series focuses on Emily's mission to convert households one at a time, implementing humor and heartwarming moments as each family experiences the advantages of clean and green living.\n",
            "\n",
            "### 2. **\"From Pollution to Solution\"**\n",
            "\n",
            "#### Campaign Idea:\n",
            "Create an interactive storytelling campaign centered on an animated world where pollution takes over and eco-friendly solutions save the day.\n",
            "\n",
            "#### Storylines and Characters:\n",
            "- **Captain Eco**: An animated superhero who fights pollution with her trusty set of eco-cleaning products.\n",
            "- **The Dirtivores**: Cute, mischievous creatures representing pollution and grime that Captain Eco must clean up.\n",
            "- **Residents of Green Town**: Various characters from a town threatened by pollution, each using ordinary means until Captain Eco arrives.\n",
            "\n",
            "#### Brief Outline:\n",
            "The animated series will feature Captain Eco tackling pollution in fun, engaging battles that highlight the product benefits, inviting viewers to become eco-warriors themselves through interactive games and challenges.\n",
            "\n",
            "### 3. **\"The Green Clean Revolution\"**\n",
            "\n",
            "#### Campaign Idea:\n",
            "An ambassador program that involves real consumers sharing their home transformations using eco-friendly cleaning products.\n",
            "\n",
            "#### Storylines and Characters:\n",
            "- **The Green Crew**: A diverse group of influencers and everyday people who lead the change by documenting their transition to green cleaning.\n",
            "- **The Scientist**: A lovable and slightly quirky product expert who helps educate consumers on the science behind the eco-benefits.\n",
            "  \n",
            "#### Brief Outline:\n",
            "This campaign would include a documentary-style video content series, influencer testimonies, social media takeovers, and user-generated content competitions to encourage widespread participation and advocacy.\n",
            "\n",
            "### 4. **\"Eco Heroes at Home\"**\n",
            "\n",
            "#### Campaign Idea:\n",
            "A series of family-centric challenges that encourage household members to become everyday eco-heroes by using green cleaning solutions.\n",
            "\n",
            "#### Storylines and Characters:\n",
            "- **Super Kids**: Kids from diverse backgrounds taking on \"eco missions\" at home using your products.\n",
            "- **Eco Grandma**: An endearing character who provides wisdom and tips on sustainable practices, incorporating family stories.\n",
            "\n",
            "#### Brief Outline:\n",
            "Through daily challenges and friendly competitions showcased in delightful videos, families engage in productive, eco-friendly habits, with kids leading the charge and inspiring their community to join the movement.\n",
            "\n",
            "### 5. **\"Clean Start Pledge\"**\n",
            "\n",
            "#### Campaign Idea:\n",
            "A community-driven initiative inviting consumers to take a pledge to switch to eco-friendly cleaning, backed by tangible benefits and rewards.\n",
            "\n",
            "#### Storylines and Characters:\n",
            "- **The Change Agents**: A group of friends who challenge each other to undertake the pledge, sharing their eco-journey with motivating and inspiring moments.\n",
            "- **The Guilt-Free Cleaner**: A light-hearted character who reminds people of the benefits – environmental, health, and community – of choosing eco-friendly options.\n",
            "\n",
            "#### Brief Outline:\n",
            "The campaign would contain testimonial videos, interactive social media elements, and a rewards program embracing the idea of collective responsibility and celebrating each small win towards a greener planet.\n",
            "\n",
            "These campaign ideas are designed to engage, educate, and inspire a broad audience, highlighting the simplicity and necessity of adopting eco-friendly cleaning habits.\n",
            "\n",
            "--------------------------------------------------------------------------------\n",
            "\n",
            ">>>>>>>> USING AUTO REPLY...\n",
            "Manager (to IdeaGenerator):\n",
            "\n",
            "These campaign ideas offer a diverse range of approaches to showcase our eco-friendly home cleaning products effectively. Let’s evaluate each of them:\n",
            "\n",
            "### 1. \"Clean and Green Chronicles\"\n",
            "- **Pros**: Engaging storylines with a mix of humor and educational content make this relatable and shareable. The episodic format encourages viewers to return for more.\n",
            "- **Cons**: Production of multiple episodes could be resource-intensive. Requires strong scriptwriting to maintain viewer interest throughout the series.\n",
            "\n",
            "### 2. \"From Pollution to Solution\"\n",
            "- **Pros**: Animation appeals to a wide audience, including families and children. The concept of pollution vs. eco-solutions adds a dynamic, visual element.\n",
            "- **Cons**: Animated content can be costly. The message needs to be clear to avoid coming off as too abstract.\n",
            "\n",
            "### 3. \"The Green Clean Revolution\"\n",
            "- **Pros**: Real consumers sharing their experiences can build trust and authenticity. Leverages influencer marketing, which is impactful for reaching targeted audiences.\n",
            "- **Cons**: Relies heavily on successful influencer partnerships. Risk of inconsistent messaging if not properly coordinated.\n",
            "\n",
            "### 4. \"Eco Heroes at Home\"\n",
            "- **Pros**: Family-focused content is inclusive and taps into shared household responsibilities. Encouraging kids to lead the eco-charge provides a feel-good factor.\n",
            "- **Cons**: Ensuring child safety and obtaining permissions can be challenging. The competitive aspect should remain positive to prevent discouragement.\n",
            "\n",
            "### 5. \"Clean Start Pledge\"\n",
            "- **Pros**: Active audience participation helps in building a community around the brand. The pledge creates a sense of commitment and can result in higher conversion rates.\n",
            "- **Cons**: Requires a robust system for managing and rewarding participation. Maintenance of sustained interest post-pledge needs strategizing.\n",
            "\n",
            "Overall, each idea presents unique strengths and potential challenges. I suggest combining elements from \"Clean and Green Chronicles\" and \"The Green Clean Revolution\" to engage a diverse audience while maintaining authenticity and relatability. Let's develop a focused strategy and budget to further expand these concepts.\n",
            "\n",
            "--------------------------------------------------------------------------------\n",
            "IdeaGenerator (to Manager):\n",
            "\n",
            "Great overview of the campaign ideas! Integrating elements from \"Clean and Green Chronicles\" and \"The Green Clean Revolution\" seems like a promising approach. Here's a more focused strategy combining these concepts:\n",
            "\n",
            "### Unified Campaign: \"Eco Chronicles - Join the Revolution\"\n",
            "\n",
            "#### Concept:\n",
            "Create a hybrid campaign that merges character-driven storytelling with real-life experiences. Use a combination of scripted episodes featuring relatable characters and authentic consumer stories to engage and build trust.\n",
            "\n",
            "#### Strategy:\n",
            "\n",
            "1. **Character-Driven Episodes:**\n",
            "   - Follow **Emily the Eco-Advocate** and a few friendly families on their journey to adopt eco-friendly products.\n",
            "   - Each episode ends with practical tips from **The Scientist**, linking the fun storyline to real-life benefits of eco-cleaning.\n",
            "\n",
            "2. **Consumer Testimonies:**\n",
            "   - Introduce **The Green Crew**, a group of selected influencers and customers who share their real, personal transitions.\n",
            "   - Deploy this content primarily across social media platforms to maximize reach and engagement.\n",
            "\n",
            "3. **Interactive Elements:**\n",
            "   - Implement a \"Clean Start Challenge\" where audiences can participate and share their own eco-transition stories.\n",
            "   - Use hashtags and a dedicated campaign page for users to submit content and take the pledge.\n",
            "\n",
            "4. **Community Engagement:**\n",
            "   - Host live webinars and Q&A sessions with **The Scientist** and influencers to educate on eco-friendly practices.\n",
            "   - Reward program for users who actively participate, sharing their journey and completing challenges.\n",
            "\n",
            "5. **Measurement and Feedback:**\n",
            "   - Track engagement metrics and gather feedback to continuously refine the campaign.\n",
            "   - Use participant stories and feedback for ongoing content inspiration and community building.\n",
            "\n",
            "#### Budget Considerations:\n",
            "- Allocate funds for high-quality production of episodic content, while leveraging cost-effective user-generated content.\n",
            "- Consider collaborations with influencers who align with your brand values to optimize spending on influencer partnerships.\n",
            "- Invest in digital platforms that offer robust analytics for tracking success and areas for improvement.\n",
            "\n",
            "By combining structured storytelling with the authenticity of real consumer experiences, this integrated campaign can effectively engage audiences, promote eco-friendly living, and build a loyal community around your brand. Let’s proceed with planning the specifics and ensuring alignment with our budget.\n",
            "\n",
            "--------------------------------------------------------------------------------\n",
            "\n",
            "********************************************************************************\n",
            "Starting a new chat....\n",
            "\n",
            "********************************************************************************\n",
            "Manager (to ScriptWriter):\n",
            "\n",
            "Great ideas! Let's develop a script for the following concept: [INSERT SELECTED IDEA HERE]. Please write a full script including dialogue, scene descriptions, and camera directions. Aim for a 2-3 minute video.\n",
            "Context: \n",
            "```json\n",
            "{\n",
            "  \"idea1\": {\n",
            "    \"concept\": \"Clean and Green Chronicles\",\n",
            "    \"storyline\": \"A series of short, engaging video episodes showcasing different households transitioning to eco-friendly cleaning solutions.\",\n",
            "    \"characters\": \"Emily the Eco-Advocate, The Clueless Family, Rival Cleaner Battle\"\n",
            "  },\n",
            "  \"idea2\": {\n",
            "    \"concept\": \"From Pollution to Solution\",\n",
            "    \"storyline\": \"An animated world where pollution takes over and eco-friendly solutions save the day.\",\n",
            "    \"characters\": \"Captain Eco, The Dirtivores, Residents of Green Town\"\n",
            "  },\n",
            "  \"idea3\": {\n",
            "    \"concept\": \"The Green Clean Revolution\",\n",
            "    \"storyline\": \"An ambassador program involving real consumers sharing their home transformations using eco-friendly cleaning products.\",\n",
            "    \"characters\": \"The Green Crew, The Scientist\"\n",
            "  },\n",
            "  \"idea4\": {\n",
            "    \"concept\": \"Eco Heroes at Home\",\n",
            "    \"storyline\": \"Family-centric challenges encouraging household members to become everyday eco-heroes by using green cleaning solutions.\",\n",
            "    \"characters\": \"Super Kids, Eco Grandma\"\n",
            "  },\n",
            "  \"idea5\": {\n",
            "    \"concept\": \"Clean Start Pledge\",\n",
            "    \"storyline\": \"A community-driven initiative inviting consumers to take a pledge to switch to eco-friendly cleaning.\",\n",
            "    \"characters\": \"The Change Agents, The Guilt-Free Cleaner\"\n",
            "  }\n",
            "}\n",
            "```\n",
            "\n",
            "--------------------------------------------------------------------------------\n",
            "ScriptWriter (to Manager):\n",
            "\n",
            "**Title: From Pollution to Solution**\n",
            "\n",
            "**Scene 1: Introduction to a Troubled World**  \n",
            "*Scene Description:* The camera pans over a gloomy, smog-filled city with dark clouds and lifeless trees. The animation is vivid with ominous background music.  \n",
            "*Camera Direction:* Wide shot showing the cityscape, slowly transitioning to various shots of everyday pollution problems.  \n",
            "\n",
            "*Narrator (VO):*  \n",
            "\"In a world drowning in pollution, the future seemed bleak. But within the chaos, a spark of hope remains.\"\n",
            "\n",
            "**Scene 2: Meet Captain Eco**  \n",
            "*Scene Description:* A colorful animation introduces Captain Eco. He is vibrant, with a bright green suit adorned with leaves. The scene shifts to him mobilizing solutions with an enthusiastic demeanor.  \n",
            "*Camera Direction:* Close-up on Captain Eco, then zoom out to reveal him surrounded by natural elements.  \n",
            "\n",
            "*Captain Eco (animated, excited):*  \n",
            "\"Fear not, citizens of Green Town! I, Captain Eco, am here to battle pollution with the power of green living!\"\n",
            "\n",
            "**Scene 3: The Dirtivores Attack**  \n",
            "*Scene Description:* The Dirtivores, mischievous creatures formed from litter and waste, invade Green Town, spreading pollution. Their movements are chaotic yet amusing, as trash trails behind them.  \n",
            "*Camera Direction:* Action shots capturing the Dirtivores’ antics, interspersed with close-ups of their mischievous grins.  \n",
            "\n",
            "*Narrator (VO):*  \n",
            "\"But not all share in Captain Eco's vision. The Dirtivores bring pollution, their laughter filling the streets with despair.\"\n",
            "\n",
            "**Scene 4: Residents of Green Town**  \n",
            "*Scene Description:* The camera switches to the concerned faces of the Residents of Green Town, who watch helplessly. Then, hope arises as they start engaging in eco-friendly activities.  \n",
            "*Camera Direction:* Medium shots of individuals recycling, planting trees, and using eco-friendly products; focus on smiles and determination.  \n",
            "\n",
            "*Resident 1 (animated, hopeful):*  \n",
            "\"We can't let this continue! Let's join Captain Eco and transform our town together!\"\n",
            "\n",
            "**Scene 5: The Battle Begins**  \n",
            "*Scene Description:* A dynamic, animated battle sequence plays out between Captain Eco and the Dirtivores. Eco-friendly products become weapons of choice, repelling pollution and revitalizing the town.  \n",
            "*Camera Direction:* Quick cuts between Captain Eco and the Dirtivores as they clash, emphasizing the contrast between green solutions and pollution.  \n",
            "\n",
            "*Captain Eco (animated, determined):*  \n",
            "\"Together, we are unstoppable!\"\n",
            "\n",
            "**Scene 6: Victory and Transformation**  \n",
            "*Scene Description:* Green Town transforms into a utopia, the skies clear, and nature flourishes. The Dirtivores are defeated, looking dejected but comically non-threatening now.  \n",
            "*Camera Direction:* Start with a wide shot of the revitalized town, zoom in on smiling faces, and end with a close-up of Captain Eco's proud grin.  \n",
            "\n",
            "*Narrator (VO):*  \n",
            "\"The power of unity and eco-friendly solutions prevails. A world once under siege finds new life.\"\n",
            "\n",
            "**Scene 7: Call to Action**  \n",
            "*Scene Description:* Captain Eco addresses the audience, pointing forward with confidence and warmth. The scene shifts to real-life community efforts echoing the animated world.  \n",
            "*Camera Direction:* Close-up of Captain Eco transitioning to real-life footage, emphasizing unity and community involvement.  \n",
            "\n",
            "*Captain Eco (animated, inspiring):*  \n",
            "\"It's your turn to be a hero! Join the movement and take the first step to a cleaner, greener world. Because the solution is you!\"\n",
            "\n",
            "*Screen Text:*  \n",
            "\"Visit [website] to learn how you can make a difference. Be the change today!\"  \n",
            "\n",
            "**End Screen:**  \n",
            "*The Clean Company Logo appears with uplifting music.*  \n",
            "\n",
            "*Narrator (VO):*  \n",
            "\"From pollution to solution—together, we shine green!\"\n",
            "\n",
            "--------------------------------------------------------------------------------\n",
            "\n",
            "********************************************************************************\n",
            "Starting a new chat....\n",
            "\n",
            "********************************************************************************\n",
            "Manager (to ScriptReviewer):\n",
            "\n",
            "Please review the following script: [INSERT SCRIPT HERE]. Analyze it for effectiveness, engagement, and alignment with our eco-friendly cleaning products campaign. Provide constructive feedback and suggest improvements.\n",
            "Context: \n",
            "```json\n",
            "{\n",
            "  \"idea1\": {\n",
            "    \"concept\": \"Clean and Green Chronicles\",\n",
            "    \"storyline\": \"A series of short, engaging video episodes showcasing different households transitioning to eco-friendly cleaning solutions.\",\n",
            "    \"characters\": \"Emily the Eco-Advocate, The Clueless Family, Rival Cleaner Battle\"\n",
            "  },\n",
            "  \"idea2\": {\n",
            "    \"concept\": \"From Pollution to Solution\",\n",
            "    \"storyline\": \"An animated world where pollution takes over and eco-friendly solutions save the day.\",\n",
            "    \"characters\": \"Captain Eco, The Dirtivores, Residents of Green Town\"\n",
            "  },\n",
            "  \"idea3\": {\n",
            "    \"concept\": \"The Green Clean Revolution\",\n",
            "    \"storyline\": \"An ambassador program involving real consumers sharing their home transformations using eco-friendly cleaning products.\",\n",
            "    \"characters\": \"The Green Crew, The Scientist\"\n",
            "  },\n",
            "  \"idea4\": {\n",
            "    \"concept\": \"Eco Heroes at Home\",\n",
            "    \"storyline\": \"Family-centric challenges encouraging household members to become everyday eco-heroes by using green cleaning solutions.\",\n",
            "    \"characters\": \"Super Kids, Eco Grandma\"\n",
            "  },\n",
            "  \"idea5\": {\n",
            "    \"concept\": \"Clean Start Pledge\",\n",
            "    \"storyline\": \"A community-driven initiative inviting consumers to take a pledge to switch to eco-friendly cleaning.\",\n",
            "    \"characters\": \"The Change Agents, The Guilt-Free Cleaner\"\n",
            "  }\n",
            "}\n",
            "```\n",
            "```json\n",
            "{\n",
            "  \"title\": \"From Pollution to Solution\",\n",
            "  \"main_characters\": [\"Captain Eco\", \"The Dirtivores\", \"Residents of Green Town\"],\n",
            "  \"key_scenes\": [\n",
            "    \"Introduction to a Troubled World\",\n",
            "    \"Meet Captain Eco\",\n",
            "    \"The Dirtivores Attack\",\n",
            "    \"Residents of Green Town Respond\",\n",
            "    \"The Battle Begins\",\n",
            "    \"Victory and Transformation\",\n",
            "    \"Call to Action\"\n",
            "  ],\n",
            "  \"estimated_duration\": \"2-3 minutes\"\n",
            "}\n",
            "```\n",
            "\n",
            "--------------------------------------------------------------------------------\n",
            "ScriptReviewer (to Manager):\n",
            "\n",
            "### Script Review for \"From Pollution to Solution\"\n",
            "\n",
            "#### Effectiveness:\n",
            "The concept of \"From Pollution to Solution\" is engaging and aligns well with the campaign goal of promoting eco-friendly cleaning products. Animated storytelling with a clear narrative about combating pollution is a creative way to capture attention and convey the message in an easily digestible format. The title effectively captures the essence of transformation and aligns with the eco-friendly theme.\n",
            "\n",
            "#### Character Analysis:\n",
            "- **Captain Eco**: As a protagonist, Captain Eco can be highly effective if portrayed dynamically with traits such as charismatic leadership, intelligence, and resilience. The character must resonate with the audience and serve as a compelling advocate for green solutions.\n",
            "- **The Dirtivores**: These antagonists should be designed to metaphorically represent pollution, easily identifiable yet not terrifying, to maintain approachability and relevance for all ages.\n",
            "- **Residents of Green Town**: Ensure these characters reflect diversity and include relatable traits. Their evolution from passive observers to active participants is crucial in inspiring viewers to take action.\n",
            "\n",
            "#### Key Scenes & Pacing:\n",
            "1. **Introduction to a Troubled World**: The scene should quickly establish the stakes (pollution) to attract immediate interest. Brief and vivid animations about pollution's impact will set the foundation.\n",
            "   \n",
            "2. **Meet Captain Eco**: Introduce Captain Eco swiftly, emphasizing his mission and tools (i.e., eco-friendly products) with a balance of humor and heroism. \n",
            "\n",
            "3. **The Dirtivores Attack**: This should build tension but maintain positive energy. Use humor or exaggerated antics to ensure the Dirtivores remain entertaining rather than menacing.\n",
            "\n",
            "4. **Residents of Green Town Respond**: Character development is critical. Show their realization and motivation to join the green movement. Incorporative diverse testimonials if possible to enrich the narrative.\n",
            "\n",
            "5. **The Battle Begins**: Maintain a lively pace, emphasizing teamwork and innovation.\n",
            "\n",
            "6. **Victory and Transformation**: The resolution should be clear and rewarding. Use vivid visual transformations of polluted areas into clean, green spaces to create a memorable impact.\n",
            "\n",
            "7. **Call to Action**: Make this direct and inspiring. Clearly communicate how viewers can become heroes like the Residents by switching to eco-friendly products.\n",
            "\n",
            "#### Engagement & Structure:\n",
            "- The script should follow an engaging, fast-paced structure that maintains focus and concludes with a strong, motivating call to action. \n",
            "- Interloop humor and whimsy with serious messaging to cater to a broad audience.\n",
            "- Balance visuals with dialogue to ensure the narrative is neither dialogue-heavy nor reliant solely on visuals.\n",
            "\n",
            "#### Suggestions for Improvement:\n",
            "- **Dialogue**: Aim for succinct and motivational dialogue—Captain Eco’s lines should inspire change, while The Dirtivores use playful, mischievous dialogue that underscores pollution's absurdity and consequences.\n",
            "  \n",
            "- **Interactive Elements**: Consider incorporating subtleties, such as viewers finding \"hidden\" eco-tips throughout the scenes to engage the audience interactively.\n",
            "  \n",
            "- **Visuals**: Ensure vibrant, contrasting animations between polluted and clean states highlight the effectiveness of eco-friendly products visibly.\n",
            "\n",
            "- **Soundtrack**: A dynamic, uplifting score can enhance emotional resonance and memorability of the transformation process.\n",
            "\n",
            "### Alignment with Brand Guidelines and Audience Preferences:\n",
            "- The script captures the essence of eco-friendly values and sustainability. Ensure Captain Eco's gear and tools reflect brand-specific products subtly throughout the narrative.\n",
            "- The animation style should cater to family audiences, ensuring inclusivity and accessibility.\n",
            "  \n",
            "By focusing on these elements, this script can effectively engage the target audience and support the campaign's objectives of promoting eco-friendly cleaning solutions.\n",
            "\n",
            "--------------------------------------------------------------------------------\n",
            "\n",
            "********************************************************************************\n",
            "Starting a new chat....\n",
            "\n",
            "********************************************************************************\n",
            "Manager (to Manager):\n",
            "\n",
            "Based on the script and review, decide if the script is ready for production or needs revisions. If revisions are needed, specify the key areas to address.\n",
            "Context: \n",
            "```json\n",
            "{\n",
            "  \"idea1\": {\n",
            "    \"concept\": \"Clean and Green Chronicles\",\n",
            "    \"storyline\": \"A series of short, engaging video episodes showcasing different households transitioning to eco-friendly cleaning solutions.\",\n",
            "    \"characters\": \"Emily the Eco-Advocate, The Clueless Family, Rival Cleaner Battle\"\n",
            "  },\n",
            "  \"idea2\": {\n",
            "    \"concept\": \"From Pollution to Solution\",\n",
            "    \"storyline\": \"An animated world where pollution takes over and eco-friendly solutions save the day.\",\n",
            "    \"characters\": \"Captain Eco, The Dirtivores, Residents of Green Town\"\n",
            "  },\n",
            "  \"idea3\": {\n",
            "    \"concept\": \"The Green Clean Revolution\",\n",
            "    \"storyline\": \"An ambassador program involving real consumers sharing their home transformations using eco-friendly cleaning products.\",\n",
            "    \"characters\": \"The Green Crew, The Scientist\"\n",
            "  },\n",
            "  \"idea4\": {\n",
            "    \"concept\": \"Eco Heroes at Home\",\n",
            "    \"storyline\": \"Family-centric challenges encouraging household members to become everyday eco-heroes by using green cleaning solutions.\",\n",
            "    \"characters\": \"Super Kids, Eco Grandma\"\n",
            "  },\n",
            "  \"idea5\": {\n",
            "    \"concept\": \"Clean Start Pledge\",\n",
            "    \"storyline\": \"A community-driven initiative inviting consumers to take a pledge to switch to eco-friendly cleaning.\",\n",
            "    \"characters\": \"The Change Agents, The Guilt-Free Cleaner\"\n",
            "  }\n",
            "}\n",
            "```\n",
            "```json\n",
            "{\n",
            "  \"title\": \"From Pollution to Solution\",\n",
            "  \"main_characters\": [\"Captain Eco\", \"The Dirtivores\", \"Residents of Green Town\"],\n",
            "  \"key_scenes\": [\n",
            "    \"Introduction to a Troubled World\",\n",
            "    \"Meet Captain Eco\",\n",
            "    \"The Dirtivores Attack\",\n",
            "    \"Residents of Green Town Respond\",\n",
            "    \"The Battle Begins\",\n",
            "    \"Victory and Transformation\",\n",
            "    \"Call to Action\"\n",
            "  ],\n",
            "  \"estimated_duration\": \"2-3 minutes\"\n",
            "}\n",
            "```\n",
            "```json\n",
            "{\n",
            "  \"strengths\": [\n",
            "    \"Engaging concept and effective title aligns well with the campaign goal.\",\n",
            "    \"Dynamic protagonist, Captain Eco, can resonate with the audience.\",\n",
            "    \"Lively pacing with a mix of humor and serious messaging.\",\n",
            "    \"Diverse and relatable Residents of Green Town encourage viewer participation.\"\n",
            "  ],\n",
            "  \"weaknesses\": [\n",
            "    \"Potential for overly dialogue-heavy sections needs balance with visuals.\",\n",
            "    \"The Dirtivores' characterization must maintain approachability and relevance.\"\n",
            "  ],\n",
            "  \"suggestions\": [\n",
            "    \"Use succinct and motivational dialogue for Captain Eco.\",\n",
            "    \"Incorporate interactive elements like hidden eco-tips for enhanced engagement.\",\n",
            "    \"Ensure visuals create sharp contrasts between polluted and clean states.\",\n",
            "    \"Use a dynamic, uplifting soundtrack to enhance emotional resonance.\"\n",
            "  ]\n",
            "}\n",
            "```\n",
            "\n",
            "--------------------------------------------------------------------------------\n",
            "\n",
            ">>>>>>>> USING AUTO REPLY...\n",
            "\n",
            ">>>>>>>> EXECUTING CODE BLOCK 0 (inferred language is json)...\n",
            "Manager (to Manager):\n",
            "\n",
            "exitcode: 1 (execution failed)\n",
            "Code output: \n",
            "unknown language json\n",
            "\n",
            "--------------------------------------------------------------------------------\n"
          ]
        }
      ]
    },
    {
      "cell_type": "markdown",
      "source": [
        "## Review Chat Summary and Cost"
      ],
      "metadata": {
        "id": "pnzEBXfDww2c"
      }
    },
    {
      "cell_type": "code",
      "source": [
        "for chat_result in chat_results:\n",
        "    print(chat_result.summary)\n",
        "    print(\"\\n\")"
      ],
      "metadata": {
        "id": "Ncs429sKkpwd",
        "colab": {
          "base_uri": "https://localhost:8080/"
        },
        "outputId": "5ca37120-ecc5-4cfd-8a0e-e28f9130a08a"
      },
      "execution_count": null,
      "outputs": [
        {
          "output_type": "stream",
          "name": "stdout",
          "text": [
            "```json\n",
            "{\n",
            "  \"idea1\": {\n",
            "    \"concept\": \"Clean and Green Chronicles\",\n",
            "    \"storyline\": \"A series of short, engaging video episodes showcasing different households transitioning to eco-friendly cleaning solutions.\",\n",
            "    \"characters\": \"Emily the Eco-Advocate, The Clueless Family, Rival Cleaner Battle\"\n",
            "  },\n",
            "  \"idea2\": {\n",
            "    \"concept\": \"From Pollution to Solution\",\n",
            "    \"storyline\": \"An animated world where pollution takes over and eco-friendly solutions save the day.\",\n",
            "    \"characters\": \"Captain Eco, The Dirtivores, Residents of Green Town\"\n",
            "  },\n",
            "  \"idea3\": {\n",
            "    \"concept\": \"The Green Clean Revolution\",\n",
            "    \"storyline\": \"An ambassador program involving real consumers sharing their home transformations using eco-friendly cleaning products.\",\n",
            "    \"characters\": \"The Green Crew, The Scientist\"\n",
            "  },\n",
            "  \"idea4\": {\n",
            "    \"concept\": \"Eco Heroes at Home\",\n",
            "    \"storyline\": \"Family-centric challenges encouraging household members to become everyday eco-heroes by using green cleaning solutions.\",\n",
            "    \"characters\": \"Super Kids, Eco Grandma\"\n",
            "  },\n",
            "  \"idea5\": {\n",
            "    \"concept\": \"Clean Start Pledge\",\n",
            "    \"storyline\": \"A community-driven initiative inviting consumers to take a pledge to switch to eco-friendly cleaning.\",\n",
            "    \"characters\": \"The Change Agents, The Guilt-Free Cleaner\"\n",
            "  }\n",
            "}\n",
            "```\n",
            "\n",
            "\n",
            "```json\n",
            "{\n",
            "  \"title\": \"From Pollution to Solution\",\n",
            "  \"main_characters\": [\"Captain Eco\", \"The Dirtivores\", \"Residents of Green Town\"],\n",
            "  \"key_scenes\": [\n",
            "    \"Introduction to a Troubled World\",\n",
            "    \"Meet Captain Eco\",\n",
            "    \"The Dirtivores Attack\",\n",
            "    \"Residents of Green Town Respond\",\n",
            "    \"The Battle Begins\",\n",
            "    \"Victory and Transformation\",\n",
            "    \"Call to Action\"\n",
            "  ],\n",
            "  \"estimated_duration\": \"2-3 minutes\"\n",
            "}\n",
            "```\n",
            "\n",
            "\n",
            "```json\n",
            "{\n",
            "  \"strengths\": [\n",
            "    \"Engaging concept and effective title aligns well with the campaign goal.\",\n",
            "    \"Dynamic protagonist, Captain Eco, can resonate with the audience.\",\n",
            "    \"Lively pacing with a mix of humor and serious messaging.\",\n",
            "    \"Diverse and relatable Residents of Green Town encourage viewer participation.\"\n",
            "  ],\n",
            "  \"weaknesses\": [\n",
            "    \"Potential for overly dialogue-heavy sections needs balance with visuals.\",\n",
            "    \"The Dirtivores' characterization must maintain approachability and relevance.\"\n",
            "  ],\n",
            "  \"suggestions\": [\n",
            "    \"Use succinct and motivational dialogue for Captain Eco.\",\n",
            "    \"Incorporate interactive elements like hidden eco-tips for enhanced engagement.\",\n",
            "    \"Ensure visuals create sharp contrasts between polluted and clean states.\",\n",
            "    \"Use a dynamic, uplifting soundtrack to enhance emotional resonance.\"\n",
            "  ]\n",
            "}\n",
            "```\n",
            "\n",
            "\n",
            "```json\n",
            "{\n",
            "  \"decision\": \"needs_revision\",\n",
            "  \"key_revision_areas\": [\n",
            "    \"Balance dialogue with visuals to prevent overly dialogue-heavy sections.\",\n",
            "    \"Ensure The Dirtivores' characterization maintains approachability and relevance.\",\n",
            "    \"Use succinct and motivational dialogue for Captain Eco.\",\n",
            "    \"Incorporate interactive elements like hidden eco-tips for enhanced engagement.\",\n",
            "    \"Create sharp visual contrasts between polluted and clean states.\",\n",
            "    \"Include a dynamic, uplifting soundtrack to enhance emotional resonance.\"\n",
            "  ]\n",
            "}\n",
            "```\n",
            "\n",
            "\n"
          ]
        }
      ]
    },
    {
      "cell_type": "code",
      "source": [
        "for chat_result in chat_results:\n",
        "    print(chat_result.cost)\n",
        "    print(\"\\n\")"
      ],
      "metadata": {
        "id": "UVwinI0_kpuJ",
        "colab": {
          "base_uri": "https://localhost:8080/"
        },
        "outputId": "daa21b76-5d3c-4849-e5bf-9f4609637cd9"
      },
      "execution_count": null,
      "outputs": [
        {
          "output_type": "stream",
          "name": "stdout",
          "text": [
            "{'usage_including_cached_inference': {'total_cost': 0.0294525, 'gpt-4o-2024-08-06': {'cost': 0.0294525, 'prompt_tokens': 4073, 'completion_tokens': 1927, 'total_tokens': 6000}}, 'usage_excluding_cached_inference': {'total_cost': 0.0294525, 'gpt-4o-2024-08-06': {'cost': 0.0294525, 'prompt_tokens': 4073, 'completion_tokens': 1927, 'total_tokens': 6000}}}\n",
            "\n",
            "\n",
            "{'usage_including_cached_inference': {'total_cost': 0.0194625, 'gpt-4o-2024-08-06': {'cost': 0.0194625, 'prompt_tokens': 2477, 'completion_tokens': 1327, 'total_tokens': 3804}}, 'usage_excluding_cached_inference': {'total_cost': 0.0194625, 'gpt-4o-2024-08-06': {'cost': 0.0194625, 'prompt_tokens': 2477, 'completion_tokens': 1327, 'total_tokens': 3804}}}\n",
            "\n",
            "\n",
            "{'usage_including_cached_inference': {'total_cost': 0.0196375, 'gpt-4o-2024-08-06': {'cost': 0.0196375, 'prompt_tokens': 2603, 'completion_tokens': 1313, 'total_tokens': 3916}}, 'usage_excluding_cached_inference': {'total_cost': 0.0196375, 'gpt-4o-2024-08-06': {'cost': 0.0196375, 'prompt_tokens': 2603, 'completion_tokens': 1313, 'total_tokens': 3916}}}\n",
            "\n",
            "\n",
            "{'usage_including_cached_inference': {'total_cost': 0.021255000000000003, 'gpt-4o-2024-08-06': {'cost': 0.021255000000000003, 'prompt_tokens': 4318, 'completion_tokens': 1046, 'total_tokens': 5364}}, 'usage_excluding_cached_inference': {'total_cost': 0.021255000000000003, 'gpt-4o-2024-08-06': {'cost': 0.021255000000000003, 'prompt_tokens': 4318, 'completion_tokens': 1046, 'total_tokens': 5364}}}\n",
            "\n",
            "\n"
          ]
        }
      ]
    },
    {
      "cell_type": "markdown",
      "source": [
        "\n",
        "\n",
        "---\n",
        "\n"
      ],
      "metadata": {
        "id": "4Xh57rdOnBQL"
      }
    },
    {
      "cell_type": "markdown",
      "source": [
        "# Specialized Agents - Nested Chats System\n",
        "\n",
        "Using AssistantAgent is ideal for AI assistant interaction. It is also designed to work well with LLMs and easily customized through its system messages.  "
      ],
      "metadata": {
        "id": "6pVLE0M8nCJB"
      }
    },
    {
      "cell_type": "markdown",
      "source": [
        "\n",
        "\n",
        "---\n",
        "\n"
      ],
      "metadata": {
        "id": "D0SSnnZDqYDN"
      }
    },
    {
      "cell_type": "markdown",
      "source": [
        "## Writer Agent"
      ],
      "metadata": {
        "id": "6bysKV1zqZL_"
      }
    },
    {
      "cell_type": "code",
      "source": [
        "writer = AssistantAgent(\n",
        "    name='Writer',\n",
        "    system_message=\"You are a writer. You write engaging and concise blogpost (with title) on given topics. you must polish your writing based on the feedback you receive and give a refined version. Only return your final work without additional comments\",\n",
        "    llm_config=llm_config,\n",
        ")"
      ],
      "metadata": {
        "id": "d-eulP4lkpm0"
      },
      "execution_count": null,
      "outputs": []
    },
    {
      "cell_type": "markdown",
      "source": [
        "## Task"
      ],
      "metadata": {
        "id": "rQx21jNdqklz"
      }
    },
    {
      "cell_type": "code",
      "source": [
        "task = '''\n",
        "        Write a concise and engaging blogpost about GPUs.\n",
        "        Make sure the blogpost is within 100 words.\n",
        "       '''"
      ],
      "metadata": {
        "id": "sQoXG4RtqVIh"
      },
      "execution_count": null,
      "outputs": []
    },
    {
      "cell_type": "code",
      "source": [
        "reply = writer.generate_reply(messages = [{\"content\": task, \"role\": \"user\"}])\n",
        "print(reply)"
      ],
      "metadata": {
        "id": "4wHmTp9vqVGA",
        "colab": {
          "base_uri": "https://localhost:8080/"
        },
        "outputId": "f72b876b-8d43-491b-eb30-6c7b1d65c9fd"
      },
      "execution_count": null,
      "outputs": [
        {
          "output_type": "stream",
          "name": "stdout",
          "text": [
            "**Unleashing Power: The Rise of GPUs**\n",
            "\n",
            "Graphics Processing Units (GPUs) have transformed from niche components for gamers to pivotal accelerators across technology sectors. Once dedicated to processing extensive graphical data, GPUs now drive innovation in AI, deep learning, and scientific computing. They excel at handling parallel tasks with unmatched speed, making them indispensable in data centers and research labs. As GPU architectures evolve, they’re enabling breakthroughs in drug discovery, autonomous vehicles, and more. The ubiquity of GPUs highlights a shift towards harnessing immense computational power, propelling us into an era where complex problem-solving is faster and more efficient than ever before.\n"
          ]
        }
      ]
    },
    {
      "cell_type": "markdown",
      "source": [
        "## Simple review of the post"
      ],
      "metadata": {
        "id": "9uv3UGepr9PM"
      }
    },
    {
      "cell_type": "code",
      "source": [
        "reviewer = AssistantAgent(\n",
        "    name = 'Reviewer',\n",
        "    is_termination_msg = lambda x: x.get(\"content\",\" \").find(\"TERMINATE\") >=0,\n",
        "    llm_config = llm_config,\n",
        "    system_message = \"You are a reviewer. You review the work of \"\n",
        "                     \"the writer and provide constructive\"\n",
        "                     \"feedback to help improve the quality of the content.\",\n",
        ")"
      ],
      "metadata": {
        "id": "VLW-JgZaqVD9"
      },
      "execution_count": null,
      "outputs": []
    },
    {
      "cell_type": "code",
      "source": [
        "res = reviewer.initiate_chat(\n",
        "    recipient = writer,\n",
        "    message=task,\n",
        "    max_turns = 2,\n",
        "    summarymethods = \"last_msg\"\n",
        ")"
      ],
      "metadata": {
        "id": "DourmTS5qVBl",
        "colab": {
          "base_uri": "https://localhost:8080/"
        },
        "outputId": "70006661-b8ff-40aa-ee55-ef16425d7af4"
      },
      "execution_count": null,
      "outputs": [
        {
          "output_type": "stream",
          "name": "stdout",
          "text": [
            "Reviewer (to Writer):\n",
            "\n",
            "\n",
            "        Write a concise and engaging blogpost about GPUs.\n",
            "        Make sure the blogpost is within 100 words.\n",
            "       \n",
            "\n",
            "--------------------------------------------------------------------------------\n",
            "Writer (to Reviewer):\n",
            "\n",
            "**Unlocking the Power of GPUs: Accelerating the Future**\n",
            "\n",
            "Graphics Processing Units (GPUs) are transforming the tech landscape, charging beyond gaming into diverse fields like scientific research, machine learning, and data analytics. These parallel processing powerhouses efficiently handle complex computations, enabling faster data processing and breathtaking visual rendering. Unlike CPUs, which manage tasks sequentially, GPUs excel in handling numerous operations simultaneously, dramatically enhancing performance and reducing computational time. As AI and virtual reality continue to advance, GPUs stand at the forefront, driving innovation and reshaping how we experience technology. Embrace the GPU revolution—it's not just for gamers anymore!\n",
            "\n",
            "--------------------------------------------------------------------------------\n",
            "Reviewer (to Writer):\n",
            "\n",
            "Your blog post has a strong, engaging introduction and effectively conveys the expanding role of GPUs in various fields. Here are some suggestions to enhance it:\n",
            "\n",
            "1. **Clarify Technical Points**: While it's great that you mention the difference between CPUs and GPUs, you might want to slightly expand on why parallel processing is so beneficial. Just one or two additional words for clarification might help readers less familiar with the technology.\n",
            "\n",
            "2. **Expand on the Impact**: You've touched on how GPUs are shaping AI and virtual reality. A very brief mention of specific examples or industries leveraging this power could further illustrate your point within the existing word count.\n",
            "\n",
            "3. **Call to Action**: Although you include a strong closing statement, consider adding a call to action or a thought-provoking question to engage your readers further. This could be a prompt to explore how GPUs might impact their industry or personal use.\n",
            "\n",
            "Overall, the post is informative and well-structured. With these minor adjustments, it can become even more engaging and informative for your audience.\n",
            "\n",
            "--------------------------------------------------------------------------------\n",
            "Writer (to Reviewer):\n",
            "\n",
            "**Unlocking the Power of GPUs: Accelerating the Future**\n",
            "\n",
            "Graphics Processing Units (GPUs) are revolutionizing technology, venturing beyond gaming into fields like scientific research, machine learning, and data analytics. These parallel processing marvels efficiently handle complex computations, enabling faster data processing and stunning visual rendering. Unlike CPUs, which manage tasks sequentially, GPUs handle numerous operations at once, dramatically enhancing performance and reducing computational time. Industries such as healthcare thrive through rapid imaging analysis and AI advancements fueled by GPUs, driving innovation and reshaping technology experiences. Explore how GPUs could impact your world—it's not just for gamers anymore! How will you harness their potential?\n",
            "\n",
            "--------------------------------------------------------------------------------\n"
          ]
        }
      ]
    },
    {
      "cell_type": "markdown",
      "source": [
        "\n",
        "\n",
        "---\n",
        "\n"
      ],
      "metadata": {
        "id": "ajWxNaArtp6S"
      }
    },
    {
      "cell_type": "markdown",
      "source": [
        "## Adding multi-level agents reviewers\n",
        "\n",
        "Adding multi-level reviewers to our process to fine tune the content and ensure important aspects of the content writing pipeline are addressed.\n",
        "\n",
        "- SEO reviewer\n",
        "- Grammatical error reviewer\n",
        "- Ethics reviewer\n",
        "- Meta reviewer\n"
      ],
      "metadata": {
        "id": "5GblyKn5ypiF"
      }
    },
    {
      "cell_type": "code",
      "source": [
        "SEO_reviewer = AssistantAgent(\n",
        "    name=\"SEO Reviewer\",\n",
        "    llm_config=llm_config,\n",
        "    system_message=\"As an SEO expert, your role is to analyze and enhance content for optimal search engine performance. \"\n",
        "        \"Focus on providing actionable recommendations that boost rankings and drive organic traffic. \"\n",
        "        \"Limit your feedback to 3 key points, ensuring they are specific and directly applicable. \"\n",
        "        \"Start each review by introducing yourself as an SEO Reviewer.\",\n",
        ")"
      ],
      "metadata": {
        "id": "eDLN0ydF1QKj"
      },
      "execution_count": null,
      "outputs": []
    },
    {
      "cell_type": "code",
      "source": [
        "grammatical_error_reviewer = AssistantAgent(\n",
        "    name=\"Grammatical Error Reviewer\",\n",
        "    llm_config=llm_config,\n",
        "    system_message=\"As a grammar specialist, your task is to meticulously examine content \"\n",
        "        \"for grammatical errors, punctuation mistakes, and style inconsistencies. \"\n",
        "        \"Provide up to 3 key points addressing the most significant grammatical issues. \"\n",
        "        \"Ensure your feedback is specific, actionable, and includes examples where appropriate. \"\n",
        "        \"Begin each review by introducing yourself as a Grammatical Error Reviewer.\",\n",
        ")"
      ],
      "metadata": {
        "id": "Lq1JyHzg1QH3"
      },
      "execution_count": null,
      "outputs": []
    },
    {
      "cell_type": "code",
      "source": [
        "ethics_reviewer = AssistantAgent(\n",
        "    name=\"Ethics Reviewer\",\n",
        "    llm_config=llm_config,\n",
        "    system_message=\"As an ethics specialist, your role is to evaluate content for ethical integrity \"\n",
        "        \"and identify any potential moral concerns. \"\n",
        "        \"Provide up to 3 specific, actionable recommendations to address ethical issues. \"\n",
        "        \"Ensure your feedback is concise and directly applicable. \"\n",
        "        \"Start each review by introducing yourself as an Ethics Reviewer.\",\n",
        ")"
      ],
      "metadata": {
        "id": "ig2tuf8t1QFF"
      },
      "execution_count": null,
      "outputs": []
    },
    {
      "cell_type": "code",
      "source": [
        "from autogen import AssistantAgent\n",
        "\n",
        "meta_reviewer = AssistantAgent(\n",
        "    name=\"Meta Reviewer\",\n",
        "    llm_config=llm_config,\n",
        "    system_message=\"You are a meta reviewer, you aggragate and review \"\n",
        "    \"the work of other reviewers and give a final suggestion on the content.\",\n",
        ")"
      ],
      "metadata": {
        "id": "l-HCkywz1QCi"
      },
      "execution_count": 45,
      "outputs": []
    },
    {
      "cell_type": "markdown",
      "source": [
        "## Orchestrate Nested Chat"
      ],
      "metadata": {
        "id": "IJCkKVi34qUs"
      }
    },
    {
      "cell_type": "code",
      "source": [
        "def reflection_message(recipient, messages, sender, config):\n",
        "    return f'''Review the following content.\n",
        "            \\n\\n {recipient.chat_messages_for_summary(sender)[-1]['content']}'''\n",
        "\n",
        "review_chats = [\n",
        "    {\n",
        "     \"recipient\": SEO_reviewer,\n",
        "     \"message\": reflection_message,\n",
        "     \"summary_method\": \"reflection_with_llm\",\n",
        "     \"summary_args\": {\"summary_prompt\" :\n",
        "        \"Return review into as JSON object only:\"\n",
        "        \"{'Reviewer': '', 'Review': ''}. Here Reviewer should be your role\",},\n",
        "     \"max_turns\": 1},\n",
        "    {\n",
        "    \"recipient\": grammatical_error_reviewer, \"message\": reflection_message,\n",
        "     \"summary_method\": \"reflection_with_llm\",\n",
        "     \"summary_args\": {\"summary_prompt\" :\n",
        "        \"Return review into as JSON object only:\"\n",
        "        \"{'Reviewer': '', 'Review': ''}.\",},\n",
        "     \"max_turns\": 1},\n",
        "    {\"recipient\": ethics_reviewer, \"message\": reflection_message,\n",
        "     \"summary_method\": \"reflection_with_llm\",\n",
        "     \"summary_args\": {\"summary_prompt\" :\n",
        "        \"Return review into as JSON object only:\"\n",
        "        \"{'reviewer': '', 'review': ''}\",},\n",
        "     \"max_turns\": 1},\n",
        "     {\"recipient\": meta_reviewer,\n",
        "      \"message\": \"Aggregrate feedback from all reviewers and give final suggestions on the writing.\",\n",
        "     \"max_turns\": 1},\n",
        "]"
      ],
      "metadata": {
        "id": "NAmGPSlb1PTJ"
      },
      "execution_count": 46,
      "outputs": []
    },
    {
      "cell_type": "code",
      "source": [
        "# Define critic agent\n",
        "critic = AssistantAgent(\n",
        "    name = 'Critic',\n",
        "    is_termination_msg = lambda x: x.get(\"content\",\" \").find(\"TERMINATE\") >=0,\n",
        "    llm_config = llm_config,\n",
        "    system_message = \"You are a reviewer. You review the work of \"\n",
        "                     \"the writer and provide constructive\"\n",
        "                     \"feedback to help improve the quality of the content.\",\n",
        ")\n",
        "# Continue with existing code\n",
        "critic.register_nested_chats(\n",
        "    review_chats,\n",
        "    trigger=writer,\n",
        ")"
      ],
      "metadata": {
        "id": "cs96fvYw4V-3"
      },
      "execution_count": 48,
      "outputs": []
    },
    {
      "cell_type": "code",
      "source": [
        "critic.register_nested_chats(\n",
        "    review_chats,\n",
        "    trigger=writer,\n",
        ")"
      ],
      "metadata": {
        "id": "KQ0bCejY3Uv6"
      },
      "execution_count": 49,
      "outputs": []
    },
    {
      "cell_type": "code",
      "source": [
        "res = critic.initiate_chat(\n",
        "    recipient=writer,\n",
        "    message=task,\n",
        "    max_turns=2,\n",
        "    summary_method=\"last_msg\"\n",
        ")"
      ],
      "metadata": {
        "id": "RfBNrimi3UtF",
        "colab": {
          "base_uri": "https://localhost:8080/"
        },
        "outputId": "b9a95543-e041-45f9-e3f8-14823755a2f9"
      },
      "execution_count": 50,
      "outputs": [
        {
          "output_type": "stream",
          "name": "stdout",
          "text": [
            "Critic (to Writer):\n",
            "\n",
            "\n",
            "        Write a concise and engaging blogpost about GPUs.\n",
            "        Make sure the blogpost is within 100 words.\n",
            "       \n",
            "\n",
            "--------------------------------------------------------------------------------\n",
            "Writer (to Critic):\n",
            "\n",
            "**Unleashing the Power: The Marvel of GPUs**\n",
            "\n",
            "Graphics Processing Units (GPUs) have revolutionized the tech world, enhancing everything from gaming to artificial intelligence. Originally designed to accelerate graphics rendering, these powerful processors now perform complex computations at lightning speed, making them indispensable for modern computing. GPUs are the backbone of stunning visuals and lifelike gaming experiences, while also driving innovation in machine learning and scientific research with their parallel processing capabilities. As technology advances, GPUs continue to push boundaries, transforming our digital landscape and opening new frontiers in creativity and experimentation. Discover the future where imagination meets reality, powered by the GPU.\n",
            "\n",
            "--------------------------------------------------------------------------------\n",
            "\n",
            "********************************************************************************\n",
            "Starting a new chat....\n",
            "\n",
            "********************************************************************************\n",
            "Critic (to SEO Reviewer):\n",
            "\n",
            "Review the following content.\n",
            "            \n",
            "\n",
            " **Unleashing the Power: The Marvel of GPUs**\n",
            "\n",
            "Graphics Processing Units (GPUs) have revolutionized the tech world, enhancing everything from gaming to artificial intelligence. Originally designed to accelerate graphics rendering, these powerful processors now perform complex computations at lightning speed, making them indispensable for modern computing. GPUs are the backbone of stunning visuals and lifelike gaming experiences, while also driving innovation in machine learning and scientific research with their parallel processing capabilities. As technology advances, GPUs continue to push boundaries, transforming our digital landscape and opening new frontiers in creativity and experimentation. Discover the future where imagination meets reality, powered by the GPU.\n",
            "\n",
            "--------------------------------------------------------------------------------\n",
            "SEO Reviewer (to Critic):\n",
            "\n",
            "Hello, I'm your SEO Reviewer. Here are three key points to optimize your content for better search engine visibility:\n",
            "\n",
            "1. **Incorporate Specific Keywords**: Your current content is informative but lacks targeted keywords that potential readers may be searching for. To enhance SEO, include specific keywords such as \"benefits of GPUs,\" \"GPU for AI,\" or \"GPU gaming performance\" within your text. This helps search engines connect your content with common user queries.\n",
            "\n",
            "2. **Optimize the Title for Search Intent**: While \"Unleashing the Power: The Marvel of GPUs\" is catchy, it could be refined for better search visibility. Consider a title like \"How GPUs Revolutionize Gaming and AI: Exploring Their Power and Future\" to align with specific user searches and include relevant long-tail keywords.\n",
            "\n",
            "3. **Enhance Readability with Subheadings and Lists**: Although your content flows well, breaking it up with subheadings and bullet points can improve readability and SEO. Use subheadings like \"Evolution of GPUs,\" \"Applications in AI and Gaming,\" and \"Future Prospects,\" and consider using bullet points to list GPU benefits or applications for easier skimming by readers and search engines.\n",
            "\n",
            "--------------------------------------------------------------------------------\n",
            "\n",
            "********************************************************************************\n",
            "Starting a new chat....\n",
            "\n",
            "********************************************************************************\n",
            "Critic (to Grammatical Error Reviewer):\n",
            "\n",
            "Review the following content.\n",
            "            \n",
            "\n",
            " **Unleashing the Power: The Marvel of GPUs**\n",
            "\n",
            "Graphics Processing Units (GPUs) have revolutionized the tech world, enhancing everything from gaming to artificial intelligence. Originally designed to accelerate graphics rendering, these powerful processors now perform complex computations at lightning speed, making them indispensable for modern computing. GPUs are the backbone of stunning visuals and lifelike gaming experiences, while also driving innovation in machine learning and scientific research with their parallel processing capabilities. As technology advances, GPUs continue to push boundaries, transforming our digital landscape and opening new frontiers in creativity and experimentation. Discover the future where imagination meets reality, powered by the GPU.\n",
            "Context: \n",
            "\n",
            "\n",
            "--------------------------------------------------------------------------------\n"
          ]
        },
        {
          "output_type": "stream",
          "name": "stderr",
          "text": [
            "/usr/local/lib/python3.10/dist-packages/autogen/agentchat/conversable_agent.py:1314: UserWarning: Cannot extract summary using reflection_with_llm: Error code: 400 - {'error': {'message': \"Invalid 'messages[1].name': string does not match pattern. Expected a string that matches the pattern '^[a-zA-Z0-9_-]+$'.\", 'type': 'invalid_request_error', 'param': 'messages[1].name', 'code': 'invalid_value'}}. Using an empty str as summary.\n",
            "  warnings.warn(\n"
          ]
        },
        {
          "output_type": "stream",
          "name": "stdout",
          "text": [
            "Grammatical Error Reviewer (to Critic):\n",
            "\n",
            "Greetings! I'm your Grammatical Error Reviewer. Let's delve into the content to identify and address any significant grammatical issues:\n",
            "\n",
            "1. **Comma Usage and Sentence Structure**: \n",
            "   - The sentence \"Originally designed to accelerate graphics rendering, these powerful processors now perform complex computations at lightning speed, making them indispensable for modern computing.\" is a complex sentence with an introductory phrase (\"Originally designed to accelerate graphics rendering\"). Although grammatically correct, be mindful of such constructions, as they can lead to complex sentence flow. Ensure such sentences contribute effectively to the clarity of the content.\n",
            "\n",
            "2. **Parallel Structure**:\n",
            "   - In the line \"GPUs are the backbone of stunning visuals and lifelike gaming experiences, while also driving innovation in machine learning and scientific research with their parallel processing capabilities,\" maintain the parallelism for improved readability. Consider rephrasing it into two separate elements for clarity: \"GPUs are the backbone of stunning visuals and lifelike gaming experiences. They also drive innovation in machine learning and scientific research with their parallel processing capabilities.\"\n",
            "\n",
            "3. **Possessive Form Consistency**:\n",
            "   - The term \"GPUs\" is consistently used in its plural form throughout the passage, accurately referring to multiple graphics processing units. There are no possessive form issues present; however, ensure consistent number agreement in any further related content. For instance, if referring to features of a single GPU, utilize \"GPU’s capabilities\" rather than using the plural form.\n",
            "\n",
            "Overall, the content is grammatically sound with sophisticated vocabulary and clear sentence structures. Maintain this precision throughout related writings to ensure high-quality communication.\n",
            "\n",
            "--------------------------------------------------------------------------------\n",
            "\n",
            "********************************************************************************\n",
            "Starting a new chat....\n",
            "\n",
            "********************************************************************************\n",
            "Critic (to Ethics Reviewer):\n",
            "\n",
            "Review the following content.\n",
            "            \n",
            "\n",
            " **Unleashing the Power: The Marvel of GPUs**\n",
            "\n",
            "Graphics Processing Units (GPUs) have revolutionized the tech world, enhancing everything from gaming to artificial intelligence. Originally designed to accelerate graphics rendering, these powerful processors now perform complex computations at lightning speed, making them indispensable for modern computing. GPUs are the backbone of stunning visuals and lifelike gaming experiences, while also driving innovation in machine learning and scientific research with their parallel processing capabilities. As technology advances, GPUs continue to push boundaries, transforming our digital landscape and opening new frontiers in creativity and experimentation. Discover the future where imagination meets reality, powered by the GPU.\n",
            "Context: \n",
            "\n",
            "\n",
            "\n",
            "--------------------------------------------------------------------------------\n",
            "Ethics Reviewer (to Critic):\n",
            "\n",
            "**Ethics Reviewer**\n",
            "\n",
            "The content provided presents a positive overview of GPUs and their impact on technological advancements. However, there are a few ethical considerations that could be addressed to ensure a more comprehensive and balanced perspective:\n",
            "\n",
            "1. **Environmental Impact Disclosure**: While highlighting the advancements, it’s important to acknowledge the environmental impact of GPU manufacturing and usage. Recommend including a statement or section that addresses the energy consumption and carbon footprint associated with GPU production and operation. This can prompt readers to consider sustainable practices and the importance of energy-efficient technologies.\n",
            "\n",
            "2. **Diversity of Applications**: The article should also consider the ethical implications of GPU use in potentially harmful applications, such as surveillance technologies or automated weaponry. Recommend adding a brief discussion on the responsibilities of developers and engineers to ensure ethical use of GPUs in various fields, promoting awareness and accountability.\n",
            "\n",
            "3. **Equitable Access**: Consider the issue of equitable access to such powerful technologies. Suggest including a point about the digital divide and how access to advanced computing power like GPUs can be limited to certain populations, potentially exacerbating societal inequalities. Encouraging efforts to make this technology more accessible could be beneficial to a broader audience.\n",
            "\n",
            "By integrating these aspects, the content will present a more ethical and holistic view of the impact of GPUs on society.\n",
            "\n",
            "--------------------------------------------------------------------------------\n",
            "\n",
            "********************************************************************************\n",
            "Starting a new chat....\n",
            "\n",
            "********************************************************************************\n",
            "Critic (to Meta Reviewer):\n",
            "\n",
            "Aggregrate feedback from all reviewers and give final suggestions on the writing.\n",
            "Context: \n",
            "\n",
            "\n",
            "\n",
            "\n",
            "--------------------------------------------------------------------------------\n",
            "Meta Reviewer (to Critic):\n",
            "\n",
            "Certainly! To provide a comprehensive aggregation and final suggestion, I'll need the individual reviews and feedback you have received. Please share the reviews so I can analyze them and provide a consolidated response.\n",
            "\n",
            "--------------------------------------------------------------------------------\n",
            "Critic (to Writer):\n",
            "\n",
            "Certainly! To provide a comprehensive aggregation and final suggestion, I'll need the individual reviews and feedback you have received. Please share the reviews so I can analyze them and provide a consolidated response.\n",
            "\n",
            "--------------------------------------------------------------------------------\n",
            "Writer (to Critic):\n",
            "\n",
            "**Unleashing the Power: The Marvel of GPUs**\n",
            "\n",
            "Graphics Processing Units (GPUs) have revolutionized the tech world, enhancing everything from gaming to artificial intelligence. Originally designed for graphics rendering, these powerful processors now perform complex computations at lightning speed, making them indispensable for modern computing. GPUs are the backbone of stunning visuals and lifelike gaming experiences, while also driving innovation in machine learning and scientific research with their parallel processing capabilities. As technology advances, GPUs continue to push boundaries, transforming our digital landscape and opening new frontiers in creativity and experimentation. Discover the future where imagination meets reality, powered by the GPU.\n",
            "\n",
            "--------------------------------------------------------------------------------\n"
          ]
        }
      ]
    },
    {
      "cell_type": "markdown",
      "source": [
        "## Get Summary"
      ],
      "metadata": {
        "id": "sMDehdqn4v4F"
      }
    },
    {
      "cell_type": "code",
      "source": [
        "print(res.summary)"
      ],
      "metadata": {
        "id": "Rk5Gdi2y3Ui4",
        "colab": {
          "base_uri": "https://localhost:8080/"
        },
        "outputId": "b31f6233-3e2c-451c-ab1c-755bf5733bae"
      },
      "execution_count": 51,
      "outputs": [
        {
          "output_type": "stream",
          "name": "stdout",
          "text": [
            "**Unleashing the Power: The Marvel of GPUs**\n",
            "\n",
            "Graphics Processing Units (GPUs) have revolutionized the tech world, enhancing everything from gaming to artificial intelligence. Originally designed for graphics rendering, these powerful processors now perform complex computations at lightning speed, making them indispensable for modern computing. GPUs are the backbone of stunning visuals and lifelike gaming experiences, while also driving innovation in machine learning and scientific research with their parallel processing capabilities. As technology advances, GPUs continue to push boundaries, transforming our digital landscape and opening new frontiers in creativity and experimentation. Discover the future where imagination meets reality, powered by the GPU.\n"
          ]
        }
      ]
    }
  ]
}
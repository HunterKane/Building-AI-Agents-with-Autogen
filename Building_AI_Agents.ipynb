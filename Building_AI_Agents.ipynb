{
  "nbformat": 4,
  "nbformat_minor": 0,
  "metadata": {
    "colab": {
      "provenance": []
    },
    "kernelspec": {
      "name": "python3",
      "display_name": "Python 3"
    },
    "language_info": {
      "name": "python"
    }
  },
  "cells": [
    {
      "cell_type": "markdown",
      "source": [
        "# Loan in .ENV file to run API KEY"
      ],
      "metadata": {
        "id": "HGKXo5z8RS50"
      }
    },
    {
      "cell_type": "code",
      "source": [
        "# Install libraries pyautogen\n",
        "pip install pyautogen"
      ],
      "metadata": {
        "colab": {
          "base_uri": "https://localhost:8080/"
        },
        "id": "QDlo8QPhJ9FM",
        "outputId": "2ae20aa8-e3f9-4999-f21a-08f5b2d68ab3"
      },
      "execution_count": 2,
      "outputs": [
        {
          "output_type": "stream",
          "name": "stdout",
          "text": [
            "Collecting pyautogen\n",
            "  Downloading pyautogen-0.6.0-py3-none-any.whl.metadata (26 kB)\n",
            "Collecting asyncer>=0.0.8 (from pyautogen)\n",
            "  Downloading asyncer-0.0.8-py3-none-any.whl.metadata (6.7 kB)\n",
            "Collecting diskcache (from pyautogen)\n",
            "  Downloading diskcache-5.6.3-py3-none-any.whl.metadata (20 kB)\n",
            "Collecting docker (from pyautogen)\n",
            "  Downloading docker-7.1.0-py3-none-any.whl.metadata (3.8 kB)\n",
            "Collecting flaml (from pyautogen)\n",
            "  Downloading FLAML-2.3.3-py3-none-any.whl.metadata (16 kB)\n",
            "Requirement already satisfied: openai>=1.57 in /usr/local/lib/python3.10/dist-packages (from pyautogen) (1.57.4)\n",
            "Requirement already satisfied: packaging in /usr/local/lib/python3.10/dist-packages (from pyautogen) (24.2)\n",
            "Requirement already satisfied: pydantic!=2.6.0,<3,>=1.10 in /usr/local/lib/python3.10/dist-packages (from pyautogen) (2.10.3)\n",
            "Collecting python-dotenv (from pyautogen)\n",
            "  Downloading python_dotenv-1.0.1-py3-none-any.whl.metadata (23 kB)\n",
            "Requirement already satisfied: termcolor in /usr/local/lib/python3.10/dist-packages (from pyautogen) (2.5.0)\n",
            "Collecting tiktoken (from pyautogen)\n",
            "  Downloading tiktoken-0.8.0-cp310-cp310-manylinux_2_17_x86_64.manylinux2014_x86_64.whl.metadata (6.6 kB)\n",
            "Requirement already satisfied: websockets<15,>=14 in /usr/local/lib/python3.10/dist-packages (from pyautogen) (14.1)\n",
            "Requirement already satisfied: numpy<2.0.0,>=1.24.0 in /usr/local/lib/python3.10/dist-packages (from pyautogen) (1.26.4)\n",
            "Requirement already satisfied: anyio<5.0,>=3.4.0 in /usr/local/lib/python3.10/dist-packages (from asyncer>=0.0.8->pyautogen) (3.7.1)\n",
            "Requirement already satisfied: distro<2,>=1.7.0 in /usr/local/lib/python3.10/dist-packages (from openai>=1.57->pyautogen) (1.9.0)\n",
            "Requirement already satisfied: httpx<1,>=0.23.0 in /usr/local/lib/python3.10/dist-packages (from openai>=1.57->pyautogen) (0.28.1)\n",
            "Requirement already satisfied: jiter<1,>=0.4.0 in /usr/local/lib/python3.10/dist-packages (from openai>=1.57->pyautogen) (0.8.2)\n",
            "Requirement already satisfied: sniffio in /usr/local/lib/python3.10/dist-packages (from openai>=1.57->pyautogen) (1.3.1)\n",
            "Requirement already satisfied: tqdm>4 in /usr/local/lib/python3.10/dist-packages (from openai>=1.57->pyautogen) (4.67.1)\n",
            "Requirement already satisfied: typing-extensions<5,>=4.11 in /usr/local/lib/python3.10/dist-packages (from openai>=1.57->pyautogen) (4.12.2)\n",
            "Requirement already satisfied: annotated-types>=0.6.0 in /usr/local/lib/python3.10/dist-packages (from pydantic!=2.6.0,<3,>=1.10->pyautogen) (0.7.0)\n",
            "Requirement already satisfied: pydantic-core==2.27.1 in /usr/local/lib/python3.10/dist-packages (from pydantic!=2.6.0,<3,>=1.10->pyautogen) (2.27.1)\n",
            "Requirement already satisfied: requests>=2.26.0 in /usr/local/lib/python3.10/dist-packages (from docker->pyautogen) (2.32.3)\n",
            "Requirement already satisfied: urllib3>=1.26.0 in /usr/local/lib/python3.10/dist-packages (from docker->pyautogen) (2.2.3)\n",
            "Requirement already satisfied: regex>=2022.1.18 in /usr/local/lib/python3.10/dist-packages (from tiktoken->pyautogen) (2024.11.6)\n",
            "Requirement already satisfied: idna>=2.8 in /usr/local/lib/python3.10/dist-packages (from anyio<5.0,>=3.4.0->asyncer>=0.0.8->pyautogen) (3.10)\n",
            "Requirement already satisfied: exceptiongroup in /usr/local/lib/python3.10/dist-packages (from anyio<5.0,>=3.4.0->asyncer>=0.0.8->pyautogen) (1.2.2)\n",
            "Requirement already satisfied: certifi in /usr/local/lib/python3.10/dist-packages (from httpx<1,>=0.23.0->openai>=1.57->pyautogen) (2024.12.14)\n",
            "Requirement already satisfied: httpcore==1.* in /usr/local/lib/python3.10/dist-packages (from httpx<1,>=0.23.0->openai>=1.57->pyautogen) (1.0.7)\n",
            "Requirement already satisfied: h11<0.15,>=0.13 in /usr/local/lib/python3.10/dist-packages (from httpcore==1.*->httpx<1,>=0.23.0->openai>=1.57->pyautogen) (0.14.0)\n",
            "Requirement already satisfied: charset-normalizer<4,>=2 in /usr/local/lib/python3.10/dist-packages (from requests>=2.26.0->docker->pyautogen) (3.4.0)\n",
            "Downloading pyautogen-0.6.0-py3-none-any.whl (450 kB)\n",
            "\u001b[2K   \u001b[90m━━━━━━━━━━━━━━━━━━━━━━━━━━━━━━━━━━━━━━━━\u001b[0m \u001b[32m450.1/450.1 kB\u001b[0m \u001b[31m19.2 MB/s\u001b[0m eta \u001b[36m0:00:00\u001b[0m\n",
            "\u001b[?25hDownloading asyncer-0.0.8-py3-none-any.whl (9.2 kB)\n",
            "Downloading diskcache-5.6.3-py3-none-any.whl (45 kB)\n",
            "\u001b[2K   \u001b[90m━━━━━━━━━━━━━━━━━━━━━━━━━━━━━━━━━━━━━━━━\u001b[0m \u001b[32m45.5/45.5 kB\u001b[0m \u001b[31m3.6 MB/s\u001b[0m eta \u001b[36m0:00:00\u001b[0m\n",
            "\u001b[?25hDownloading docker-7.1.0-py3-none-any.whl (147 kB)\n",
            "\u001b[2K   \u001b[90m━━━━━━━━━━━━━━━━━━━━━━━━━━━━━━━━━━━━━━━━\u001b[0m \u001b[32m147.8/147.8 kB\u001b[0m \u001b[31m11.5 MB/s\u001b[0m eta \u001b[36m0:00:00\u001b[0m\n",
            "\u001b[?25hDownloading FLAML-2.3.3-py3-none-any.whl (314 kB)\n",
            "\u001b[2K   \u001b[90m━━━━━━━━━━━━━━━━━━━━━━━━━━━━━━━━━━━━━━━━\u001b[0m \u001b[32m314.2/314.2 kB\u001b[0m \u001b[31m19.7 MB/s\u001b[0m eta \u001b[36m0:00:00\u001b[0m\n",
            "\u001b[?25hDownloading python_dotenv-1.0.1-py3-none-any.whl (19 kB)\n",
            "Downloading tiktoken-0.8.0-cp310-cp310-manylinux_2_17_x86_64.manylinux2014_x86_64.whl (1.2 MB)\n",
            "\u001b[2K   \u001b[90m━━━━━━━━━━━━━━━━━━━━━━━━━━━━━━━━━━━━━━━━\u001b[0m \u001b[32m1.2/1.2 MB\u001b[0m \u001b[31m32.9 MB/s\u001b[0m eta \u001b[36m0:00:00\u001b[0m\n",
            "\u001b[?25hInstalling collected packages: python-dotenv, flaml, diskcache, tiktoken, docker, asyncer, pyautogen\n",
            "Successfully installed asyncer-0.0.8 diskcache-5.6.3 docker-7.1.0 flaml-2.3.3 pyautogen-0.6.0 python-dotenv-1.0.1 tiktoken-0.8.0\n"
          ]
        }
      ]
    },
    {
      "cell_type": "code",
      "source": [
        "import os\n",
        "from autogen import ConversableAgent\n",
        "from dotenv import load_dotenv\n",
        "\n",
        "# Load environment variables from .env file\n",
        "load_dotenv()"
      ],
      "metadata": {
        "colab": {
          "base_uri": "https://localhost:8080/"
        },
        "id": "3RIKJt95J_pn",
        "outputId": "23a13a88-72cb-4476-d2f4-6cb49a74b213"
      },
      "execution_count": 3,
      "outputs": [
        {
          "output_type": "stream",
          "name": "stderr",
          "text": [
            "/usr/local/lib/python3.10/dist-packages/dask/dataframe/__init__.py:42: FutureWarning: \n",
            "Dask dataframe query planning is disabled because dask-expr is not installed.\n",
            "\n",
            "You can install it with `pip install dask[dataframe]` or `conda install dask`.\n",
            "This will raise in a future version.\n",
            "\n",
            "  warnings.warn(msg, FutureWarning)\n"
          ]
        },
        {
          "output_type": "execute_result",
          "data": {
            "text/plain": [
              "True"
            ]
          },
          "metadata": {},
          "execution_count": 3
        }
      ]
    },
    {
      "cell_type": "markdown",
      "source": [
        "# Select Model\n",
        "\n",
        "Will use gpt-4o but other models can be used."
      ],
      "metadata": {
        "id": "IpphVq0JP3ji"
      }
    },
    {
      "cell_type": "code",
      "source": [
        "## Configuring the LLM\n",
        "\n",
        "llm_config = {\n",
        "\n",
        "              \"model\": \"gpt-4o\",\n",
        "              \"api_key\": os.getenv(\"OPENAI_API_KEY\")\n",
        "              }\n"
      ],
      "metadata": {
        "id": "9doyH225KLmc"
      },
      "execution_count": 4,
      "outputs": []
    },
    {
      "cell_type": "code",
      "source": [
        "# Import conversable agent form autogen\n",
        "\n",
        "from autogen import ConversableAgent\n",
        "\n",
        "## create a conversable agent\n",
        "\n",
        "agent = ConversableAgent(\n",
        "    name=\"agent\",\n",
        "    llm_config=llm_config,\n",
        "    human_input_mode =\"NEVER\"\n",
        ")"
      ],
      "metadata": {
        "id": "Yn9McukZrHhM"
      },
      "execution_count": 5,
      "outputs": []
    },
    {
      "cell_type": "markdown",
      "source": [
        "# Generate a response with a question"
      ],
      "metadata": {
        "id": "pTn97vT9PDJ7"
      }
    },
    {
      "cell_type": "code",
      "source": [
        "## Generating reply from the agent\n",
        "\n",
        "reply = agent.generate_reply(\n",
        "    messages = [{\"content\": \" How to make delicious ramen?\", \"role\": \"user\"}]\n",
        "\n",
        "\n",
        ")\n",
        "\n",
        "print(reply)"
      ],
      "metadata": {
        "colab": {
          "base_uri": "https://localhost:8080/"
        },
        "id": "qI_Ky_94xkod",
        "outputId": "8b355961-f26b-49af-8b5a-baf74ee025a4"
      },
      "execution_count": 6,
      "outputs": [
        {
          "output_type": "stream",
          "name": "stdout",
          "text": [
            "Making delicious ramen at home can be a fun and satisfying process. Here's a simple recipe to help you create a flavorful bowl of ramen. Feel free to modify it to suit your taste preferences.\n",
            "\n",
            "### Ingredients:\n",
            "\n",
            "**For the broth:**\n",
            "- 6 cups of chicken stock or dashi\n",
            "- 2 cups of water\n",
            "- 1 onion, halved\n",
            "- 2 cloves of garlic, crushed\n",
            "- 2-inch piece of ginger, sliced\n",
            "- 2 tablespoons soy sauce\n",
            "- 1 tablespoon miso paste (optional, for depth of flavor)\n",
            "- A dash of sake or mirin (optional)\n",
            "\n",
            "**For the toppings:**\n",
            "- Sliced green onions\n",
            "- Soft-boiled eggs\n",
            "- Sliced cooked chicken, pork, or tofu\n",
            "- Nori sheets (seaweed)\n",
            "- Fresh or cooked vegetables like mushrooms, bok choy, or bean sprouts\n",
            "- Corn kernels (optional)\n",
            "- Chili oil or sesame seeds (optional)\n",
            "\n",
            "**For the noodles:**\n",
            "- Ramen noodles (fresh or dried, as per availability)\n",
            "\n",
            "### Instructions:\n",
            "\n",
            "1. **Prepare the Broth:**\n",
            "   - In a large pot, combine the chicken stock or dashi with water. Add the halved onion, crushed garlic, sliced ginger, soy sauce, and miso paste. If using, add sake or mirin.\n",
            "   - Bring the mixture to a boil, then reduce the heat and let it simmer for at least 30 minutes. This allows the flavors to meld together beautifully.\n",
            "   - Once done, strain the broth to remove the solids. Keep the broth warm over low heat.\n",
            "\n",
            "2. **Cook the Noodles:**\n",
            "   - Cook the ramen noodles according to the package instructions. Fresh noodles usually take 2-3 minutes, while dried ones take a bit longer.\n",
            "   - Once cooked, drain the noodles and rinse them briefly under cold water to stop the cooking process. Set aside.\n",
            "\n",
            "3. **Prepare the Soft-Boiled Eggs:**\n",
            "   - Bring a small pot of water to a boil. Carefully add the eggs and cook for 6-7 minutes.\n",
            "   - Remove the eggs and place them in a bowl of ice water to cool. Once cool, peel and slice them in half.\n",
            "\n",
            "4. **Assemble the Ramen:**\n",
            "   - Divide the cooked noodles into bowls. Ladle the hot broth over the noodles.\n",
            "   - Arrange your choice of toppings over the noodles. Common choices are sliced green onions, protein like chicken or tofu, soft-boiled egg halves, vegetables, and nori sheets.\n",
            "   - Add any additional seasonings or garnishes like chili oil or sesame seeds, if desired.\n",
            "\n",
            "5. **Serve:**\n",
            "   - Serve the ramen hot, preferably with chopsticks and a soup spoon. Enjoy the delightful combination of flavors and textures!\n",
            "\n",
            "Feel free to experiment with different toppings and flavors to make the ramen suit your preferences. Enjoy your delicious, homemade ramen!\n"
          ]
        }
      ]
    },
    {
      "cell_type": "markdown",
      "source": [
        "# Generate another respomse"
      ],
      "metadata": {
        "id": "c-BvtLB7POV9"
      }
    },
    {
      "cell_type": "code",
      "source": [
        "reply = agent.generate_reply(\n",
        "    messages = [{\"content\": \"How to set up a AI agent strategy for customer service?\", \"role\": \"user\"}]\n",
        "\n",
        "\n",
        ")\n",
        "\n",
        "print(reply)"
      ],
      "metadata": {
        "id": "uX_KNaLAyqt_",
        "colab": {
          "base_uri": "https://localhost:8080/"
        },
        "outputId": "d007487c-31fd-480b-f307-e0e3a2d9b688"
      },
      "execution_count": 8,
      "outputs": [
        {
          "output_type": "stream",
          "name": "stdout",
          "text": [
            "Setting up an AI agent strategy for customer service involves several key steps to ensure that the system is efficient, effective, and aligns with your business’s goals. Here’s a comprehensive guide to help you set up an AI agent strategy:\n",
            "\n",
            "### 1. Define Your Objectives\n",
            "- **Customer Expectations**: Understand what your customers need and expect from your customer service.\n",
            "- **Business Goals**: Align the AI implementation with larger business objectives, such as reducing response times or increasing customer satisfaction.\n",
            "  \n",
            "### 2. Identify Use Cases\n",
            "- **Common Queries**: Determine which types of inquiries can be automated, such as FAQs or repetitive tasks.\n",
            "- **Complex Issues**: Identify which issues still require human intervention.\n",
            "\n",
            "### 3. Choose the Right Technology\n",
            "- **AI Platforms**: Select suitable AI platforms and technologies based on your needs (e.g., chatbots, voice assistants).\n",
            "- **Integration**: Ensure that the AI system integrates well with existing customer service tools, like CRM systems.\n",
            "\n",
            "### 4. Design the AI Conversational Flow\n",
            "- **User Scenarios**: Map out potential customer interactions and how the AI agent should handle them.\n",
            "- **Dialogue Design**: Create interaction scripts that feel natural and are easy for customers to understand.\n",
            "- **Fallback Mechanisms**: Design how and when the AI will hand off interactions to human agents.\n",
            "\n",
            "### 5. Implement Natural Language Processing (NLP)\n",
            "- **Language Capabilities**: Ensure the AI can understand and process customer inputs effectively.\n",
            "- **Contextual Understanding**: Improve the AI’s ability to understand context to provide more accurate responses.\n",
            "\n",
            "### 6. Train the AI System\n",
            "- **Data Collection**: Use historical data and customer interactions to train the AI models.\n",
            "- **Continuous Learning**: Implement mechanisms for ongoing learning and improvement based on new interactions.\n",
            "\n",
            "### 7. Test the System\n",
            "- **Pilot Deployment**: Deploy the AI agent on a small scale to test its performance.\n",
            "- **Feedback Collection**: Gather feedback from both customers and human agents to identify issues.\n",
            "\n",
            "### 8. Monitor and Optimize\n",
            "- **Performance Metrics**: Define key metrics like Average Handling Time (AHT), First Contact Resolution (FCR), and customer satisfaction scores to evaluate the AI's performance.\n",
            "- **Supervised Learning**: Continuously monitor the AI’s interactions and retrain it for improvement.\n",
            "- **Update Content**: Regularly update the AI with new information, products, and services that your company offers.\n",
            "\n",
            "### 9. Plan for Human-AI Collaboration\n",
            "- **Seamless Transition**: Implement a system for a smooth transition between AI agents and human operators.\n",
            "- **Empower Agents**: Provide human agents with tools and information from AI interactions to enhance service.\n",
            "\n",
            "### 10. Ensure Data Privacy and Security\n",
            "- **Compliance**: Ensure that your AI solution complies with all relevant data privacy regulations (e.g., GDPR).\n",
            "- **Data Protection**: Implement robust security measures to protect customer information.\n",
            "\n",
            "### 11. Measure Success and Iterate\n",
            "- **Regular Reviews**: Schedule regular assessments of the AI system against the set objectives.\n",
            "- **Customer Surveys**: Conduct surveys to gather direct feedback on the AI’s effectiveness.\n",
            "- **Iterative Improvements**: Use insights from reviews and surveys to make iterative improvements to the system.\n",
            "\n",
            "Creating an AI agent strategy is an iterative process that requires ongoing management and refinement to adapt to changing customer needs and business goals. It’s essential to combine technology with a human touch to provide a seamless customer experience.\n"
          ]
        }
      ]
    },
    {
      "cell_type": "markdown",
      "source": [
        "# Multi Agent Conversation\n",
        "\n",
        "Create a conversation between a student and a tutor agent."
      ],
      "metadata": {
        "id": "SnGOjVKdQDCU"
      }
    },
    {
      "cell_type": "code",
      "source": [
        "# Create student agent\n",
        "\n",
        "student = ConversableAgent(\n",
        "    \"student\",\n",
        "    system_message=\"You are a high school student struggling with algerbra. You need help understanding quadratic equations.\",\n",
        "    llm_config=llm_config,  # Pass llm_config directly\n",
        "    human_input_mode=\"NEVER\"\n",
        ")"
      ],
      "metadata": {
        "id": "A7zEgYQtPnQc"
      },
      "execution_count": 12,
      "outputs": []
    },
    {
      "cell_type": "code",
      "source": [
        "# Create tutor agent\n",
        "\n",
        "tutor = ConversableAgent(\n",
        "    \"tutor\",\n",
        "    system_message= \"You are a patient and kind math tutor. Your goal is to help students understand algebra concepts, particularly quadratic equations.\",\n",
        "    llm_config=llm_config,  # Pass llm_config directly\n",
        "    human_input_mode=\"NEVER\"\n",
        ")"
      ],
      "metadata": {
        "id": "1HHU2EKIReLU"
      },
      "execution_count": 13,
      "outputs": []
    },
    {
      "cell_type": "markdown",
      "source": [
        "# Initiate the conversation between the two agents"
      ],
      "metadata": {
        "id": "a1BrVZ50SosA"
      }
    },
    {
      "cell_type": "code",
      "source": [
        "# start a learning session\n",
        "result = student.initiate_chat(\n",
        "    recipient=tutor,\n",
        "    message=\"I am struggling with quadratic equations. Can you help me understand them better?\",\n",
        "    max_turns = 2\n",
        ")"
      ],
      "metadata": {
        "colab": {
          "base_uri": "https://localhost:8080/"
        },
        "id": "3KToRop1Shq2",
        "outputId": "ac2371b7-b1c1-4a3f-8572-e7e65f0ab379"
      },
      "execution_count": 14,
      "outputs": [
        {
          "output_type": "stream",
          "name": "stdout",
          "text": [
            "student (to tutor):\n",
            "\n",
            "I am struggling with quadratic equations. Can you help me understand them better?\n",
            "\n",
            "--------------------------------------------------------------------------------\n",
            "tutor (to student):\n",
            "\n",
            "Of course! I'd be happy to help you with quadratic equations.\n",
            "\n",
            "A quadratic equation is any equation that can be written in the standard form:\n",
            "\n",
            "\\[ ax^2 + bx + c = 0 \\]\n",
            "\n",
            "where \\( a \\), \\( b \\), and \\( c \\) are constants, and \\( a \\neq 0 \\).\n",
            "\n",
            "**Key Concepts of Quadratic Equations:**\n",
            "\n",
            "1. **Quadratic Term:** This is \\( ax^2 \\). The graph of a quadratic equation is a parabola, and the coefficient \\( a \\) tells you whether the parabola opens upwards (if \\( a > 0 \\)) or downwards (if \\( a < 0 \\)).\n",
            "\n",
            "2. **Linear Term:** This is \\( bx \\). It influences the slope and position of the parabola.\n",
            "\n",
            "3. **Constant Term:** This is \\( c \\). It shifts the parabola up or down on the graph.\n",
            "\n",
            "4. **Roots or Solutions:** These are the values of \\( x \\) that satisfy the equation. A quadratic equation can have:\n",
            "   - Two real and distinct roots\n",
            "   - One real double root\n",
            "   - Two complex roots (if you're working with complex numbers)\n",
            "\n",
            "**How to Solve Quadratic Equations:**\n",
            "\n",
            "There are several methods to solve quadratic equations:\n",
            "\n",
            "1. **Factoring:** You express the quadratic as a product of two binomials. For example, \\( x^2 - 5x + 6 = 0 \\) can be factored to \\((x - 2)(x - 3) = 0\\), giving the roots \\( x = 2 \\) and \\( x = 3 \\).\n",
            "\n",
            "2. **Quadratic Formula:** This formula is applicable to any quadratic equation. It is:\n",
            "\n",
            "   \\[ x = \\frac{{-b \\pm \\sqrt{{b^2 - 4ac}}}}{2a} \\]\n",
            "\n",
            "   The expression under the square root, \\( b^2 - 4ac \\), is called the discriminant and indicates the nature of the roots:\n",
            "   - If \\( b^2 - 4ac > 0 \\), two real solutions.\n",
            "   - If \\( b^2 - 4ac = 0 \\), one real double solution.\n",
            "   - If \\( b^2 - 4ac < 0 \\), two complex solutions.\n",
            "\n",
            "3. **Completing the Square:** This method involves rearranging the equation to make it a perfect square trinomial, which can then be solved by taking the square root.\n",
            "\n",
            "4. **Graphing:** You can graph the quadratic equation and identify the points where it intersects the x-axis; these points are the solutions.\n",
            "\n",
            "Would you like to go through an example using one of these methods, or is there a particular concept you'd like to delve into further?\n",
            "\n",
            "--------------------------------------------------------------------------------\n",
            "student (to tutor):\n",
            "\n",
            "What I am having trouble with is how to actually use the quadratic formula. Could you walk me through an example?\n",
            "\n",
            "--------------------------------------------------------------------------------\n",
            "tutor (to student):\n",
            "\n",
            "Absolutely! Let's walk through an example using the quadratic formula. \n",
            "\n",
            "Suppose we have the quadratic equation:\n",
            "\n",
            "\\[ 2x^2 + 3x - 2 = 0 \\]\n",
            "\n",
            "To use the quadratic formula, we first identify the coefficients \\( a \\), \\( b \\), and \\( c \\) from the equation. In this case:\n",
            "\n",
            "- \\( a = 2 \\)\n",
            "- \\( b = 3 \\)\n",
            "- \\( c = -2 \\)\n",
            "\n",
            "The quadratic formula is:\n",
            "\n",
            "\\[ x = \\frac{{-b \\pm \\sqrt{{b^2 - 4ac}}}}{2a} \\]\n",
            "\n",
            "Now, we'll substitute the values of \\( a \\), \\( b \\), and \\( c \\) into the formula:\n",
            "\n",
            "1. **Calculate the Discriminant \\( b^2 - 4ac \\):**\n",
            "   \\[\n",
            "   b^2 - 4ac = 3^2 - 4 \\times 2 \\times (-2)\n",
            "   \\]\n",
            "   \\[\n",
            "   = 9 + 16 = 25\n",
            "   \\]\n",
            "\n",
            "2. **Plug Values into the Quadratic Formula:**\n",
            "   \\[\n",
            "   x = \\frac{{-3 \\pm \\sqrt{25}}}{4}\n",
            "   \\]\n",
            "\n",
            "3. **Solve for \\( x \\):**\n",
            "   - Calculate \\( \\sqrt{25} \\) which is \\( 5 \\).\n",
            "   - So we have two possible solutions:\n",
            "     \\[\n",
            "     x = \\frac{{-3 + 5}}{4} \\quad \\text{and} \\quad x = \\frac{{-3 - 5}}{4}\n",
            "     \\]\n",
            "\n",
            "   - **First Solution:**\n",
            "     \\[\n",
            "     x = \\frac{2}{4} = \\frac{1}{2}\n",
            "     \\]\n",
            "\n",
            "   - **Second Solution:**\n",
            "     \\[\n",
            "     x = \\frac{-8}{4} = -2\n",
            "     \\]\n",
            "\n",
            "Therefore, the solutions to the equation \\( 2x^2 + 3x - 2 = 0 \\) are \\( x = \\frac{1}{2} \\) and \\( x = -2 \\).\n",
            "\n",
            "If you have any questions or need more practice, feel free to ask!\n",
            "\n",
            "--------------------------------------------------------------------------------\n"
          ]
        }
      ]
    },
    {
      "cell_type": "markdown",
      "source": [
        "# Print Results\n",
        "\n",
        "- Print the chat history\n",
        "- Print the cost of each call\n",
        "- print the summary"
      ],
      "metadata": {
        "id": "VeXyFEoeT-Zm"
      }
    },
    {
      "cell_type": "code",
      "source": [
        "import pprint\n",
        "pprint.pprint(result.chat_history)"
      ],
      "metadata": {
        "colab": {
          "base_uri": "https://localhost:8080/"
        },
        "id": "jK4UhDrtTKdc",
        "outputId": "ba3fffb6-e8cf-4ee8-cf05-54a1fe6ddc68"
      },
      "execution_count": 16,
      "outputs": [
        {
          "output_type": "stream",
          "name": "stdout",
          "text": [
            "[{'content': 'I am struggling with quadratic equations. Can you help me '\n",
            "             'understand them better?',\n",
            "  'name': 'student',\n",
            "  'role': 'assistant'},\n",
            " {'content': \"Of course! I'd be happy to help you with quadratic equations.\\n\"\n",
            "             '\\n'\n",
            "             'A quadratic equation is any equation that can be written in the '\n",
            "             'standard form:\\n'\n",
            "             '\\n'\n",
            "             '\\\\[ ax^2 + bx + c = 0 \\\\]\\n'\n",
            "             '\\n'\n",
            "             'where \\\\( a \\\\), \\\\( b \\\\), and \\\\( c \\\\) are constants, and \\\\( '\n",
            "             'a \\\\neq 0 \\\\).\\n'\n",
            "             '\\n'\n",
            "             '**Key Concepts of Quadratic Equations:**\\n'\n",
            "             '\\n'\n",
            "             '1. **Quadratic Term:** This is \\\\( ax^2 \\\\). The graph of a '\n",
            "             'quadratic equation is a parabola, and the coefficient \\\\( a \\\\) '\n",
            "             'tells you whether the parabola opens upwards (if \\\\( a > 0 \\\\)) '\n",
            "             'or downwards (if \\\\( a < 0 \\\\)).\\n'\n",
            "             '\\n'\n",
            "             '2. **Linear Term:** This is \\\\( bx \\\\). It influences the slope '\n",
            "             'and position of the parabola.\\n'\n",
            "             '\\n'\n",
            "             '3. **Constant Term:** This is \\\\( c \\\\). It shifts the parabola '\n",
            "             'up or down on the graph.\\n'\n",
            "             '\\n'\n",
            "             '4. **Roots or Solutions:** These are the values of \\\\( x \\\\) '\n",
            "             'that satisfy the equation. A quadratic equation can have:\\n'\n",
            "             '   - Two real and distinct roots\\n'\n",
            "             '   - One real double root\\n'\n",
            "             \"   - Two complex roots (if you're working with complex numbers)\\n\"\n",
            "             '\\n'\n",
            "             '**How to Solve Quadratic Equations:**\\n'\n",
            "             '\\n'\n",
            "             'There are several methods to solve quadratic equations:\\n'\n",
            "             '\\n'\n",
            "             '1. **Factoring:** You express the quadratic as a product of two '\n",
            "             'binomials. For example, \\\\( x^2 - 5x + 6 = 0 \\\\) can be factored '\n",
            "             'to \\\\((x - 2)(x - 3) = 0\\\\), giving the roots \\\\( x = 2 \\\\) and '\n",
            "             '\\\\( x = 3 \\\\).\\n'\n",
            "             '\\n'\n",
            "             '2. **Quadratic Formula:** This formula is applicable to any '\n",
            "             'quadratic equation. It is:\\n'\n",
            "             '\\n'\n",
            "             '   \\\\[ x = \\\\frac{{-b \\\\pm \\\\sqrt{{b^2 - 4ac}}}}{2a} \\\\]\\n'\n",
            "             '\\n'\n",
            "             '   The expression under the square root, \\\\( b^2 - 4ac \\\\), is '\n",
            "             'called the discriminant and indicates the nature of the roots:\\n'\n",
            "             '   - If \\\\( b^2 - 4ac > 0 \\\\), two real solutions.\\n'\n",
            "             '   - If \\\\( b^2 - 4ac = 0 \\\\), one real double solution.\\n'\n",
            "             '   - If \\\\( b^2 - 4ac < 0 \\\\), two complex solutions.\\n'\n",
            "             '\\n'\n",
            "             '3. **Completing the Square:** This method involves rearranging '\n",
            "             'the equation to make it a perfect square trinomial, which can '\n",
            "             'then be solved by taking the square root.\\n'\n",
            "             '\\n'\n",
            "             '4. **Graphing:** You can graph the quadratic equation and '\n",
            "             'identify the points where it intersects the x-axis; these points '\n",
            "             'are the solutions.\\n'\n",
            "             '\\n'\n",
            "             'Would you like to go through an example using one of these '\n",
            "             \"methods, or is there a particular concept you'd like to delve \"\n",
            "             'into further?',\n",
            "  'name': 'tutor',\n",
            "  'role': 'user'},\n",
            " {'content': 'What I am having trouble with is how to actually use the '\n",
            "             'quadratic formula. Could you walk me through an example?',\n",
            "  'name': 'student',\n",
            "  'role': 'assistant'},\n",
            " {'content': \"Absolutely! Let's walk through an example using the quadratic \"\n",
            "             'formula. \\n'\n",
            "             '\\n'\n",
            "             'Suppose we have the quadratic equation:\\n'\n",
            "             '\\n'\n",
            "             '\\\\[ 2x^2 + 3x - 2 = 0 \\\\]\\n'\n",
            "             '\\n'\n",
            "             'To use the quadratic formula, we first identify the coefficients '\n",
            "             '\\\\( a \\\\), \\\\( b \\\\), and \\\\( c \\\\) from the equation. In this '\n",
            "             'case:\\n'\n",
            "             '\\n'\n",
            "             '- \\\\( a = 2 \\\\)\\n'\n",
            "             '- \\\\( b = 3 \\\\)\\n'\n",
            "             '- \\\\( c = -2 \\\\)\\n'\n",
            "             '\\n'\n",
            "             'The quadratic formula is:\\n'\n",
            "             '\\n'\n",
            "             '\\\\[ x = \\\\frac{{-b \\\\pm \\\\sqrt{{b^2 - 4ac}}}}{2a} \\\\]\\n'\n",
            "             '\\n'\n",
            "             \"Now, we'll substitute the values of \\\\( a \\\\), \\\\( b \\\\), and \"\n",
            "             '\\\\( c \\\\) into the formula:\\n'\n",
            "             '\\n'\n",
            "             '1. **Calculate the Discriminant \\\\( b^2 - 4ac \\\\):**\\n'\n",
            "             '   \\\\[\\n'\n",
            "             '   b^2 - 4ac = 3^2 - 4 \\\\times 2 \\\\times (-2)\\n'\n",
            "             '   \\\\]\\n'\n",
            "             '   \\\\[\\n'\n",
            "             '   = 9 + 16 = 25\\n'\n",
            "             '   \\\\]\\n'\n",
            "             '\\n'\n",
            "             '2. **Plug Values into the Quadratic Formula:**\\n'\n",
            "             '   \\\\[\\n'\n",
            "             '   x = \\\\frac{{-3 \\\\pm \\\\sqrt{25}}}{4}\\n'\n",
            "             '   \\\\]\\n'\n",
            "             '\\n'\n",
            "             '3. **Solve for \\\\( x \\\\):**\\n'\n",
            "             '   - Calculate \\\\( \\\\sqrt{25} \\\\) which is \\\\( 5 \\\\).\\n'\n",
            "             '   - So we have two possible solutions:\\n'\n",
            "             '     \\\\[\\n'\n",
            "             '     x = \\\\frac{{-3 + 5}}{4} \\\\quad \\\\text{and} \\\\quad x = '\n",
            "             '\\\\frac{{-3 - 5}}{4}\\n'\n",
            "             '     \\\\]\\n'\n",
            "             '\\n'\n",
            "             '   - **First Solution:**\\n'\n",
            "             '     \\\\[\\n'\n",
            "             '     x = \\\\frac{2}{4} = \\\\frac{1}{2}\\n'\n",
            "             '     \\\\]\\n'\n",
            "             '\\n'\n",
            "             '   - **Second Solution:**\\n'\n",
            "             '     \\\\[\\n'\n",
            "             '     x = \\\\frac{-8}{4} = -2\\n'\n",
            "             '     \\\\]\\n'\n",
            "             '\\n'\n",
            "             'Therefore, the solutions to the equation \\\\( 2x^2 + 3x - 2 = 0 '\n",
            "             '\\\\) are \\\\( x = \\\\frac{1}{2} \\\\) and \\\\( x = -2 \\\\).\\n'\n",
            "             '\\n'\n",
            "             'If you have any questions or need more practice, feel free to '\n",
            "             'ask!',\n",
            "  'name': 'tutor',\n",
            "  'role': 'user'}]\n"
          ]
        }
      ]
    },
    {
      "cell_type": "code",
      "source": [
        "pprint.pprint(result.cost)"
      ],
      "metadata": {
        "colab": {
          "base_uri": "https://localhost:8080/"
        },
        "id": "QGehSnaNUFn0",
        "outputId": "9b1d1673-64e3-4de2-ba27-6ca63c03c66e"
      },
      "execution_count": 17,
      "outputs": [
        {
          "output_type": "stream",
          "name": "stdout",
          "text": [
            "{'usage_excluding_cached_inference': {'gpt-4o-2024-08-06': {'completion_tokens': 1052,\n",
            "                                                            'cost': 0.013850000000000001,\n",
            "                                                            'prompt_tokens': 1332,\n",
            "                                                            'total_tokens': 2384},\n",
            "                                      'total_cost': 0.013850000000000001},\n",
            " 'usage_including_cached_inference': {'gpt-4o-2024-08-06': {'completion_tokens': 1052,\n",
            "                                                            'cost': 0.013850000000000001,\n",
            "                                                            'prompt_tokens': 1332,\n",
            "                                                            'total_tokens': 2384},\n",
            "                                      'total_cost': 0.013850000000000001}}\n"
          ]
        }
      ]
    },
    {
      "cell_type": "code",
      "source": [
        "pprint.pprint(result.summary)"
      ],
      "metadata": {
        "colab": {
          "base_uri": "https://localhost:8080/"
        },
        "id": "u28QALgaULKT",
        "outputId": "9bf10d46-0685-4478-8038-9b5bb8da5e7e"
      },
      "execution_count": 18,
      "outputs": [
        {
          "output_type": "stream",
          "name": "stdout",
          "text": [
            "(\"Absolutely! Let's walk through an example using the quadratic formula. \\n\"\n",
            " '\\n'\n",
            " 'Suppose we have the quadratic equation:\\n'\n",
            " '\\n'\n",
            " '\\\\[ 2x^2 + 3x - 2 = 0 \\\\]\\n'\n",
            " '\\n'\n",
            " 'To use the quadratic formula, we first identify the coefficients \\\\( a \\\\), '\n",
            " '\\\\( b \\\\), and \\\\( c \\\\) from the equation. In this case:\\n'\n",
            " '\\n'\n",
            " '- \\\\( a = 2 \\\\)\\n'\n",
            " '- \\\\( b = 3 \\\\)\\n'\n",
            " '- \\\\( c = -2 \\\\)\\n'\n",
            " '\\n'\n",
            " 'The quadratic formula is:\\n'\n",
            " '\\n'\n",
            " '\\\\[ x = \\\\frac{{-b \\\\pm \\\\sqrt{{b^2 - 4ac}}}}{2a} \\\\]\\n'\n",
            " '\\n'\n",
            " \"Now, we'll substitute the values of \\\\( a \\\\), \\\\( b \\\\), and \\\\( c \\\\) into \"\n",
            " 'the formula:\\n'\n",
            " '\\n'\n",
            " '1. **Calculate the Discriminant \\\\( b^2 - 4ac \\\\):**\\n'\n",
            " '   \\\\[\\n'\n",
            " '   b^2 - 4ac = 3^2 - 4 \\\\times 2 \\\\times (-2)\\n'\n",
            " '   \\\\]\\n'\n",
            " '   \\\\[\\n'\n",
            " '   = 9 + 16 = 25\\n'\n",
            " '   \\\\]\\n'\n",
            " '\\n'\n",
            " '2. **Plug Values into the Quadratic Formula:**\\n'\n",
            " '   \\\\[\\n'\n",
            " '   x = \\\\frac{{-3 \\\\pm \\\\sqrt{25}}}{4}\\n'\n",
            " '   \\\\]\\n'\n",
            " '\\n'\n",
            " '3. **Solve for \\\\( x \\\\):**\\n'\n",
            " '   - Calculate \\\\( \\\\sqrt{25} \\\\) which is \\\\( 5 \\\\).\\n'\n",
            " '   - So we have two possible solutions:\\n'\n",
            " '     \\\\[\\n'\n",
            " '     x = \\\\frac{{-3 + 5}}{4} \\\\quad \\\\text{and} \\\\quad x = \\\\frac{{-3 - '\n",
            " '5}}{4}\\n'\n",
            " '     \\\\]\\n'\n",
            " '\\n'\n",
            " '   - **First Solution:**\\n'\n",
            " '     \\\\[\\n'\n",
            " '     x = \\\\frac{2}{4} = \\\\frac{1}{2}\\n'\n",
            " '     \\\\]\\n'\n",
            " '\\n'\n",
            " '   - **Second Solution:**\\n'\n",
            " '     \\\\[\\n'\n",
            " '     x = \\\\frac{-8}{4} = -2\\n'\n",
            " '     \\\\]\\n'\n",
            " '\\n'\n",
            " 'Therefore, the solutions to the equation \\\\( 2x^2 + 3x - 2 = 0 \\\\) are \\\\( x '\n",
            " '= \\\\frac{1}{2} \\\\) and \\\\( x = -2 \\\\).\\n'\n",
            " '\\n'\n",
            " 'If you have any questions or need more practice, feel free to ask!')\n"
          ]
        }
      ]
    },
    {
      "cell_type": "markdown",
      "source": [
        "# Termination condition - Ending the conversation"
      ],
      "metadata": {
        "id": "6ZgsM43QUzAx"
      }
    },
    {
      "cell_type": "code",
      "source": [
        "student = ConversableAgent(\n",
        "    \"student\",\n",
        "    system_message=\"You are a high school student struggling with algerbra. You need help understanding quadratic equations.\",\n",
        "    llm_config=llm_config,  # Pass llm_config directly\n",
        "    human_input_mode=\"NEVER\",\n",
        "    is_termination_msg=lambda msg: \"exit\" in msg [\"content\"],\n",
        ")\n",
        "\n",
        "tutor = ConversableAgent(\n",
        "    \"tutor\",\n",
        "    system_message= \"You are a patient and kind math tutor. Your goal is to help students understand algebra concepts, particularly quadratic equations.\",\n",
        "    llm_config=llm_config,  # Pass llm_config directly\n",
        "    human_input_mode=\"NEVER\"\n",
        ")"
      ],
      "metadata": {
        "id": "EFJ8wfTNUOaV"
      },
      "execution_count": 25,
      "outputs": []
    },
    {
      "cell_type": "markdown",
      "source": [
        "# Use the word \"exit\" in the message"
      ],
      "metadata": {
        "id": "ziqMIZDjWkLP"
      }
    },
    {
      "cell_type": "code",
      "source": [
        "# Pass the word \"exit\" in the message to trigger conversation to end\n",
        "result = student.initiate_chat(\n",
        "    tutor,\n",
        "    message = \"I am struggling with quadratic equations. Can you help me understand them better and then say exit?\",\n",
        "\n",
        ")"
      ],
      "metadata": {
        "colab": {
          "base_uri": "https://localhost:8080/"
        },
        "id": "sNMrxw8fV8N-",
        "outputId": "ac8149c9-1af1-4812-ad4c-1097d7a19e0d"
      },
      "execution_count": 26,
      "outputs": [
        {
          "output_type": "stream",
          "name": "stdout",
          "text": [
            "student (to tutor):\n",
            "\n",
            "I am struggling with quadratic equations. Can you help me understand them better and then say exit?\n",
            "\n",
            "--------------------------------------------------------------------------------\n",
            "tutor (to student):\n",
            "\n",
            "Of course! Quadratic equations are an important topic in algebra, and I'd be happy to help you understand them better.\n",
            "\n",
            "A **quadratic equation** is any equation that can be written in the standard form:\n",
            "\n",
            "\\[ ax^2 + bx + c = 0 \\]\n",
            "\n",
            "where \\( a \\), \\( b \\), and \\( c \\) are constants, with \\( a \\) not equal to 0. Let's break down this form:\n",
            "\n",
            "- \\( ax^2 \\) is the quadratic term. The \\( x^2 \\) means that the variable \\( x \\) is squared, and \\( a \\) is the coefficient that multiplies this term.\n",
            "- \\( bx \\) is the linear term. Here, \\( b \\) is the coefficient of \\( x \\).\n",
            "- \\( c \\) is the constant term. It's simply a number without any variables attached.\n",
            "\n",
            "The solutions to a quadratic equation are the values of \\( x \\) that make the equation true (meaning the left side equals zero). There are different methods to solve a quadratic equation, including:\n",
            "\n",
            "1. **Factoring:** This involves expressing the quadratic equation as a product of two binomial expressions. This method works well when the quadratic equation can be factored easily.\n",
            "\n",
            "2. **Using the Quadratic Formula:** The quadratic formula is a universal method for solving any quadratic equation and is given by:\n",
            "\n",
            "   \\[ x = \\frac{-b \\pm \\sqrt{b^2 - 4ac}}{2a} \\]\n",
            "\n",
            "   This formula provides the solutions to the quadratic equation, where the expression under the square root, \\( b^2 - 4ac \\), is known as the discriminant. The discriminant tells us about the nature of the roots (solutions):\n",
            "   - If it's positive, there are two distinct real roots.\n",
            "   - If it's zero, there is one real root (or a repeated root).\n",
            "   - If it's negative, there are no real roots (the solutions are complex numbers).\n",
            "\n",
            "3. **Completing the Square:** This method involves rearranging the equation to make one side a perfect square trinomial, which can then be solved by taking the square root of both sides.\n",
            "\n",
            "4. **Graphing:** You can also solve a quadratic equation by graphing the quadratic function \\( y = ax^2 + bx + c \\) and finding the points where the graph intersects the x-axis. These points of intersection correspond to the solutions of the equation.\n",
            "\n",
            "Understanding these concepts can take practice, so don't hesitate to ask more questions if you're curious about a specific problem or method!\n",
            "\n",
            "When you're ready, just let me know by saying \"exit,\" and I'll remember to conclude our session.\n",
            "\n",
            "--------------------------------------------------------------------------------\n"
          ]
        }
      ]
    }
  ]
}